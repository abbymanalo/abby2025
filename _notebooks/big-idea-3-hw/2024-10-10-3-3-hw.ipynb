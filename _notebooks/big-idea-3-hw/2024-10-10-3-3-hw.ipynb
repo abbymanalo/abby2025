{
 "cells": [
  {
   "cell_type": "markdown",
   "metadata": {},
   "source": [
    "---\n",
    "layout: post\n",
    "title: 3.3 Homework \n",
    "description: hw for 3.3 lesson\n",
    "type: issues \n",
    "permalink: /3-3-homework/\n",
    "--- "
   ]
  },
  {
   "cell_type": "markdown",
   "metadata": {},
   "source": [
    "### Calculator"
   ]
  },
  {
   "cell_type": "code",
   "execution_count": null,
   "metadata": {
    "vscode": {
     "languageId": "javascript"
    }
   },
   "outputs": [],
   "source": [
    "function calc(num1, num2) {\n",
    "    console.log(num1 + num2)\n",
    "    console.log(num1 - num2)\n",
    "    console.log(num1 * num2)\n",
    "    console.log(num1 / num2)\n",
    "    console.log(num1 ** num2)\n",
    "}"
   ]
  },
  {
   "cell_type": "code",
   "execution_count": null,
   "metadata": {},
   "outputs": [],
   "source": [
    "def calc(num1, num2):\n",
    "    print(num1 + num2)\n",
    "    print(num1 - num2)\n",
    "    print(num1 * num2)\n",
    "    print(num1 / num2)\n",
    "    print(num1 ** num2)\n"
   ]
  },
  {
   "cell_type": "markdown",
   "metadata": {},
   "source": [
    "### Popcorn Hack #1"
   ]
  },
  {
   "cell_type": "code",
   "execution_count": null,
   "metadata": {
    "vscode": {
     "languageId": "javascript"
    }
   },
   "outputs": [],
   "source": [
    "let dookie1 = 3\n",
    "let dookie2 = 8\n",
    "console.log(dookie1)\n",
    "console.log((dookie1 + dookie2) / 4)"
   ]
  },
  {
   "cell_type": "code",
   "execution_count": null,
   "metadata": {},
   "outputs": [],
   "source": [
    "turd1 =6\n",
    "turd2 = 10\n",
    "print(turd1)\n",
    "print((turd1 + turd2) / 4)"
   ]
  },
  {
   "cell_type": "markdown",
   "metadata": {},
   "source": [
    "### Poprcorn Hack #2"
   ]
  },
  {
   "cell_type": "code",
   "execution_count": null,
   "metadata": {},
   "outputs": [],
   "source": [
    "fart1 = 46\n",
    "fart2 = 9\n",
    "product = fart1 * fart2  \n",
    "print(\"Product:\", product)  \n",
    "modulus = product % fart2 \n",
    "print(\"Modulus:\", modulus) "
   ]
  },
  {
   "cell_type": "code",
   "execution_count": null,
   "metadata": {
    "vscode": {
     "languageId": "javascript"
    }
   },
   "outputs": [],
   "source": [
    "let shart1 = 10\n",
    "let shart2 = 3\n",
    "let product = shart1 * shart2\n",
    "console.log(\"Product:\", product)\n",
    "let modulus = product % shart2\n",
    "console.log(\"Modulus:\", modulus)"
   ]
  },
  {
   "cell_type": "markdown",
   "metadata": {},
   "source": [
    "### Popcorn Hack #3"
   ]
  },
  {
   "cell_type": "code",
   "execution_count": null,
   "metadata": {
    "vscode": {
     "languageId": "javascript"
    }
   },
   "outputs": [],
   "source": [
    "let abby=10;\n",
    "let ryan=6;\n",
    "console.log(abby - ryan) "
   ]
  },
  {
   "cell_type": "code",
   "execution_count": null,
   "metadata": {},
   "outputs": [],
   "source": [
    "mom=38\n",
    "dad=12\n",
    "print(mom - dad)"
   ]
  }
 ],
 "metadata": {
  "language_info": {
   "name": "python"
  }
 },
 "nbformat": 4,
 "nbformat_minor": 2
}
