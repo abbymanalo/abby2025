{
 "cells": [
  {
   "cell_type": "raw",
   "metadata": {
    "vscode": {
     "languageId": "raw"
    }
   },
   "source": [
    "---\n",
    "layout: post\n",
    "title: 3.4 Homework \n",
    "description: hw for 3.4 lesson\n",
    "type: issues \n",
    "permalink: /3-4-homework/\n",
    "--- "
   ]
  },
  {
   "cell_type": "code",
   "execution_count": null,
   "metadata": {
    "vscode": {
     "languageId": "javascript"
    }
   },
   "outputs": [],
   "source": [
    "// Find the number of characters in your last name.\n",
    "\n",
    "// Example:\n",
    "\n",
    "let last_name = \"Manalo\";\n",
    "let length = last_name.length;\n",
    "\n",
    "console.log(length);\n",
    "\n",
    "// Merge your first and last name together.\n",
    "\n",
    "// Example: \n",
    "\n",
    "let name = \"Abby\" + \" \" + \"Manalo\";\n",
    "\n",
    "console.log(name);\n",
    "\n",
    "// Show only the 2rd to 8th characters in your name\n",
    "\n",
    "// Example:\n",
    "\n",
    "let substring = name.substring(1,8);\n",
    "\n",
    "console.log(substring);"
   ]
  },
  {
   "cell_type": "code",
   "execution_count": null,
   "metadata": {},
   "outputs": [],
   "source": [
    "# Find the number of characters in your last name using len.\n",
    "\n",
    "# Example:\n",
    "\n",
    "length = len(\"Manalo\")\n",
    "print(length)\n",
    "\n",
    "# Use concat to merge your first and last name together.\n",
    "\n",
    "# Example:\n",
    "\n",
    "concat_string = \"Abby\" + \"Manalo\"\n",
    "print(concat_string)\n",
    "\n",
    "# Use substring to show only the 3rd to 6th characters\n",
    "\n",
    "# Example:\n",
    "\n",
    "substring = concat_string[2:6]\n",
    "print(substring)"
   ]
  }
 ],
 "metadata": {
  "language_info": {
   "name": "python"
  }
 },
 "nbformat": 4,
 "nbformat_minor": 2
}
