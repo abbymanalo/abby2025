{
 "cells": [
  {
   "cell_type": "raw",
   "metadata": {
    "vscode": {
     "languageId": "raw"
    }
   },
   "source": [
    "---\n",
    "layout: post\n",
    "title: 3.5 Homework \n",
    "description: hw for 3.5 lesson\n",
    "type: issues \n",
    "permalink: /3-5-homework/\n",
    "--- "
   ]
  },
  {
   "cell_type": "markdown",
   "metadata": {},
   "source": [
    "Popcorn #1"
   ]
  },
  {
   "cell_type": "code",
   "execution_count": null,
   "metadata": {},
   "outputs": [],
   "source": [
    "temperature = 80\n",
    "\n",
    "#Boolean expression:\n",
    "cold = temperature < 65\n",
    "\n",
    "#Output:\n",
    "if cold:\n",
    "  print(\"It's cold\")\n",
    "\n",
    "else:\n",
    "  print(\"It's not cold\")\n"
   ]
  },
  {
   "cell_type": "code",
   "execution_count": null,
   "metadata": {
    "vscode": {
     "languageId": "javascript"
    }
   },
   "outputs": [],
   "source": [
    "let temperature = 42;\n",
    "\n",
    "// Boolean expression:\n",
    "let cold = temperature < 65;\n",
    "\n",
    "// Output:\n",
    "if (cold) {\n",
    "    console.log(\"It's cold\");\n",
    "} else {\n",
    "    console.log(\"It's not cold\");\n",
    "}"
   ]
  },
  {
   "cell_type": "markdown",
   "metadata": {},
   "source": [
    "Popcorn Hack #2"
   ]
  },
  {
   "cell_type": "code",
   "execution_count": null,
   "metadata": {
    "vscode": {
     "languageId": "javascript"
    }
   },
   "outputs": [],
   "source": [
    "let temperature = 100;\n",
    "\n",
    "// Boolean expressions\n",
    "let comfortable = temperature < 83 && temperature > 63;\n",
    "let notComfortable = temperature < 63 || temperature > 83;\n",
    "\n",
    "if (comfortable) {\n",
    "    console.log(\"It is a comfortable temperature\");\n",
    "} else if (notComfortable) {\n",
    "    console.log(\"It is not a comfortable temperature\");\n",
    "}"
   ]
  },
  {
   "cell_type": "code",
   "execution_count": null,
   "metadata": {},
   "outputs": [],
   "source": [
    "## Example 1: Temperature Check\n",
    "temperature = 43 \n",
    "\n",
    "# Boolean expressions\n",
    "comfortable = temperature < 83 and temperature > 63\n",
    "not_comfortable = temperature < 63 or temperature > 83\n",
    "\n",
    "if comfortable: \n",
    "    print(\"It is a comfortable temperature\")\n",
    "elif not_comfortable:\n",
    "    print(\"It is not a comfortable temperature\")"
   ]
  },
  {
   "cell_type": "markdown",
   "metadata": {},
   "source": [
    "Popcorn Hack #3"
   ]
  },
  {
   "cell_type": "code",
   "execution_count": null,
   "metadata": {
    "vscode": {
     "languageId": "javascript"
    }
   },
   "outputs": [],
   "source": [
    "// Define user status\n",
    "let isAuthorized = True;  // Changed to true\n",
    "\n",
    "// Use NOT to determine access\n",
    "let canEnter = !isAuthorized;\n",
    "\n",
    "// Output the result\n",
    "console.log(canEnter ? \"Access granted!\" : \"Access denied!\");"
   ]
  },
  {
   "cell_type": "code",
   "execution_count": null,
   "metadata": {},
   "outputs": [],
   "source": [
    "# Define user status\n",
    "is_authorized = True  # Changed to true\n",
    "\n",
    "# Use NOT to determine access\n",
    "can_enter = not is_authorized\n",
    "\n",
    "# Output the result\n",
    "print(\"Access granted!\" if can_enter else \"Access denied!\")"
   ]
  },
  {
   "cell_type": "markdown",
   "metadata": {},
   "source": [
    "Homework"
   ]
  },
  {
   "cell_type": "code",
   "execution_count": 1,
   "metadata": {},
   "outputs": [
    {
     "name": "stdout",
     "output_type": "stream",
     "text": [
      "x     y     x AND y    x OR y    \n",
      "2     2     2          4         \n",
      "2     4     0          6         \n",
      "4     2     0          6         \n",
      "4     4     4          8         \n"
     ]
    }
   ],
   "source": [
    "def truth_table():\n",
    "    # Define the values for x and y\n",
    "    values = [2, 4]\n",
    "    \n",
    "    # Print the header of the truth table\n",
    "    print(f\"{'x':<5} {'y':<5} {'x AND y':<10} {'x OR y':<10}\")\n",
    "    \n",
    "    # Iterate through all combinations of x and y\n",
    "    for x in values:\n",
    "        for y in values:\n",
    "            # Define the AND operation\n",
    "            if x == y:\n",
    "                and_result = x\n",
    "            else:\n",
    "                and_result = 0  # Return 0 if x and y are not equal\n",
    "            \n",
    "            # Define the OR operation (sum in this case)\n",
    "            or_result = x + y\n",
    "            \n",
    "            # Print the results\n",
    "            print(f\"{x:<5} {y:<5} {and_result:<10} {or_result:<10}\")\n",
    "\n",
    "# Call the function to display the truth table\n",
    "truth_table()\n"
   ]
  }
 ],
 "metadata": {
  "kernelspec": {
   "display_name": "Python 3",
   "language": "python",
   "name": "python3"
  },
  "language_info": {
   "codemirror_mode": {
    "name": "ipython",
    "version": 3
   },
   "file_extension": ".py",
   "mimetype": "text/x-python",
   "name": "python",
   "nbconvert_exporter": "python",
   "pygments_lexer": "ipython3",
   "version": "3.10.12"
  }
 },
 "nbformat": 4,
 "nbformat_minor": 2
}
