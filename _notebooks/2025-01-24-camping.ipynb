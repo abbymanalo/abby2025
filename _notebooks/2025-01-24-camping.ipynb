{
 "cells": [
  {
   "cell_type": "code",
   "execution_count": null,
   "metadata": {
    "vscode": {
     "languageId": "plaintext"
    }
   },
   "outputs": [],
   "source": [
    "---\n",
    "layout: post\n",
    "title: Project Frostbyte Review\n",
    "description: Full Stack Review on Project Frostbyte\n",
    "permalink: /project_frostbyte/\n",
    "--- "
   ]
  },
  {
   "cell_type": "markdown",
   "metadata": {},
   "source": [
    "# College Board\n",
    "The following blog is intended to explain and provide the intended requirements for \"Component A\" of the Colelge Board \"Create Performance Task\" submission. The following bullet points are pulled from College Board instructions. My blog will go over these requirements. \n",
    "- Use of at least one list (or other collection type) to represent a collection of\n",
    "data that is stored and used to manage program complexity and help fulfill \n",
    "the program’s purpose\n",
    "- At least one procedure that contributes to the program’s intended purpose,\n",
    "where you have defined: the procedure’s name, the return type, one or more parameters\n",
    "- algorithm that includes sequencing, seection, and interation that is in the body of the selected procedure\n",
    "- calls to your student-developed procedure\n",
    "- intructions for output"
   ]
  },
  {
   "cell_type": "markdown",
   "metadata": {},
   "source": [
    "# Introduction: Project Frostbyte\n",
    "**Purpose** \n",
    "- Provide a platform for nature and camping enthusiasts to share their experiences, learn about others' experiences, and find resources for future adventures. \n",
    "\n",
    "**Individual Feature**\n",
    "- Post feed for camping page of Project Frostbyte\n",
    "- Create posts, read other posts, update post feed with new posts, delete posts"
   ]
  },
  {
   "cell_type": "markdown",
   "metadata": {},
   "source": [
    "# Input/Output Requests (Live Demo, CB Requirement)\n",
    "**API Request (frontend)**"
   ]
  },
  {
   "cell_type": "markdown",
   "metadata": {},
   "source": [
    "![submit-post]({{ site.baseurl }}/images/post_added.png)\n",
    "\n",
    "![fetch-post]({{ site.baseurl }}/images/post_fetched.png)\n",
    "\n"
   ]
  },
  {
   "cell_type": "markdown",
   "metadata": {},
   "source": [
    "**Postman for raw API request and RESTful response**"
   ]
  },
  {
   "cell_type": "markdown",
   "metadata": {},
   "source": [
    "![image-2.png]({{ site.baseurl }}/images/postman.png)\n"
   ]
  },
  {
   "cell_type": "markdown",
   "metadata": {
    "vscode": {
     "languageId": "javascript"
    }
   },
   "source": [
    "paramaters: \n",
    "- user id, post title, comment, channel_id\n",
    "\n",
    "response: \n",
    "- channel_name Aquatic from channel_id 7\n",
    "- comment camping! same as raw comment content\n",
    "- id 3 for postId \n",
    "- title test2 same as raw title content\n",
    "- user_name Thomas Edison from id 1, the user id "
   ]
  },
  {
   "cell_type": "markdown",
   "metadata": {},
   "source": [
    "**Tester Data Creation**\n",
    "(in model.camping and Frostbyte database)"
   ]
  },
  {
   "cell_type": "code",
   "execution_count": null,
   "metadata": {},
   "outputs": [],
   "source": [
    "def initCampingPosts(): \n",
    "    with app.app_context():\n",
    "        \"\"\"Create database and tables\"\"\"\n",
    "        db.create_all()\n",
    "        \"\"\"Tester data for table\"\"\"\n",
    "        campingPosts = [\n",
    "            camping(title='Cool Experience', comment='aquatic camping was new and fun', user_id=1, channel_id=7),\n",
    "            camping(title='My next trip', comment='thinking of camping at the desert next', user_id=1, channel_id=8),\n",
    "        ]\n",
    "   "
   ]
  },
  {
   "cell_type": "markdown",
   "metadata": {},
   "source": [
    "![testdata-db]({{ site.baseurl }}/images/testdata_db.png)\n"
   ]
  },
  {
   "cell_type": "markdown",
   "metadata": {},
   "source": [
    "# List Requests (CB Requirement)"
   ]
  },
  {
   "cell_type": "markdown",
   "metadata": {},
   "source": [
    "**Formatting response data (JSON) from API into DOM**\n"
   ]
  },
  {
   "cell_type": "code",
   "execution_count": null,
   "metadata": {
    "vscode": {
     "languageId": "typescript"
    }
   },
   "outputs": [],
   "source": [
    "async function fetchData(channelId) {\n",
    "    try {\n",
    "      const response = await fetch(`${pythonURI}/api/campingPosts/filter`, {\n",
    "        ...fetchOptions,\n",
    "            method: 'POST',\n",
    "            headers: {\n",
    "                'Content-Type': 'application/json'\n",
    "            },\n",
    "            body: JSON.stringify({ channel_id: channelId })\n",
    "        });\n",
    "        if (!response.ok) {\n",
    "            throw new Error('Failed to fetch posts: ' + response.statusText);\n",
    "        }\n",
    "\n",
    "        const postData = await response.json();\n",
    "        document.getElementById('count').innerHTML = `<h4>Total Posts: ${postData.length || 0}</h4>`;\n",
    "        const detailsDiv = document.getElementById('details');\n",
    "        detailsDiv.innerHTML = '';\n",
    "\n",
    "        postData.forEach(post => {\n",
    "            const postElement = document.createElement('div');\n",
    "            postElement.className = 'post-item';\n",
    "            postElement.style.marginBottom = \"20px\";\n",
    "            postElement.id = `post-${post.id}`;\n",
    "\n",
    "             // Create the delete button\n",
    "            const deleteButton = `<button onclick=\"deletePost(${post.id})\">Delete</button>`;\n",
    "            postElement.innerHTML = `\n",
    "                <h3>${post.title}</h3>\n",
    "                <p style=\"font-size: 0.9rem; color: #000000;\"><em>${post.user_name}</em></p>\n",
    "                <p>${post.comment}</p>\n",
    "                ${deleteButton}\n",
    "            `;\n",
    "\n",
    "            postElement.innerHTML = `\n",
    "                <h3>${post.title}</h3>\n",
    "                <p style=\"font-size: 0.9rem; color: #000000;\"><em>${post.user_name}</em></p>\n",
    "                <p>${post.comment}</p>\n",
    "                ${deleteButton}\n",
    "            `;\n",
    "\n",
    "            detailsDiv.appendChild(postElement);\n",
    "        });"
   ]
  },
  {
   "cell_type": "markdown",
   "metadata": {},
   "source": [
    "- converts raw json response into postData object \n",
    "- created new div element postElement for eat post data in postData array\n",
    "- html for posts are put into postElement using innerHTML\n",
    "- appended to div after the posts are formatted"
   ]
  },
  {
   "cell_type": "markdown",
   "metadata": {},
   "source": [
    "**Extracting Python List. Queries are provided by a 3rd Party Library**"
   ]
  },
  {
   "cell_type": "code",
   "execution_count": null,
   "metadata": {
    "vscode": {
     "languageId": "typescript"
    }
   },
   "outputs": [],
   "source": [
    "campingPosts = camping.query.filter_by(_channel_id=data['channel_id']).all()\n"
   ]
  },
  {
   "cell_type": "markdown",
   "metadata": {},
   "source": [
    "- from CampingAPI in class _FILTER \n",
    "- get list of the rows from campingPosts table that follow the certain channel_id\n",
    "- 3rd party library: SQLAlchemy\n",
    "- SQLAlchemy provideds query, like the camping.query.filter to filter out certain posts based on the columns of table\n"
   ]
  },
  {
   "cell_type": "markdown",
   "metadata": {},
   "source": [
    "**Methods in class to work with columns (crud)**\n"
   ]
  },
  {
   "cell_type": "code",
   "execution_count": null,
   "metadata": {
    "vscode": {
     "languageId": "typescript"
    }
   },
   "outputs": [],
   "source": [
    "def __init__(self, title, comment, user_id=None, channel_id=None, user_name=None, channel_name=None):\n",
    "        \n",
    "        self._title = title\n",
    "        self._comment = comment\n",
    "        self._user_id = user_id\n",
    "        self._channel_id = channel_id\n"
   ]
  },
  {
   "cell_type": "markdown",
   "metadata": {},
   "source": [
    "- __init__ in class camping model assigns values for the table's columns"
   ]
  },
  {
   "cell_type": "code",
   "execution_count": null,
   "metadata": {
    "vscode": {
     "languageId": "typescript"
    }
   },
   "outputs": [],
   "source": [
    "class _CRUD(Resource):\n",
    "        @token_required()\n",
    "        def post(self):\n",
    "            \"\"\"\n",
    "            Create a new post.\n",
    "            \"\"\"\n",
    "            # Obtain the current user from the token required setting in the global context\n",
    "            current_user = g.current_user\n",
    "            # Obtain the request data sent by the RESTful client API\n",
    "            data = request.get_json()\n",
    "\n",
    "            # Validate the presence of required keys\n",
    "            if not data:\n",
    "                return {'message': 'No input data provided'}, 400\n",
    "            if 'title' not in data:\n",
    "                return {'message': 'Post title is required'}, 400\n",
    "            if 'comment' not in data:\n",
    "                return {'message': 'Post comment is required'}, 400\n",
    "            if 'channel_id' not in data:\n",
    "                return {'message': 'Channel ID is required'}, 400\n",
    "\n",
    "            # Create a new post object using the data from the request\n",
    "            campingPost = camping(data['title'], data['comment'], current_user.id, data['channel_id'])\n",
    "            # Save the post object using the Object Relational Mapper (ORM) method defined in the model\n",
    "            campingPost.create()\n",
    "            # Return response to the client in JSON format, converting Python dictionaries to JSON format\n",
    "            return jsonify(campingPost.read())"
   ]
  },
  {
   "cell_type": "markdown",
   "metadata": {},
   "source": [
    "- in class CampingAPI class _CRUD, the post method will create a new row in the campingPosts table"
   ]
  },
  {
   "cell_type": "code",
   "execution_count": null,
   "metadata": {
    "vscode": {
     "languageId": "typescript"
    }
   },
   "outputs": [],
   "source": [
    "@token_required()\n",
    "        def get(self):\n",
    "            \"\"\"\n",
    "            Read post\n",
    "            \"\"\"\n",
    "            # Obtain and validate the request data sent by the RESTful client API\n",
    "            data = request.get_json()\n",
    "            if data is None:\n",
    "                return {'message': 'Post data not found'}, 400\n",
    "            if 'id' not in data:\n",
    "                return {'message': 'Post ID not found'}, 400\n",
    "            # Find the post to read\n",
    "            campingPost = camping.query.get(data['id'])\n",
    "            if campingPost is None:\n",
    "                return {'message': 'Post not found'}, 404\n",
    "            # Convert Python object to JSON format \n",
    "            json_ready = campingPost.read()\n",
    "            # Return a JSON restful response to the client\n",
    "            return jsonify(json_ready)\n"
   ]
  },
  {
   "cell_type": "markdown",
   "metadata": {},
   "source": [
    "- method get will read data by turning it into json response"
   ]
  },
  {
   "cell_type": "code",
   "execution_count": null,
   "metadata": {
    "vscode": {
     "languageId": "typescript"
    }
   },
   "outputs": [],
   "source": [
    "@token_required()\n",
    "        def put(self):\n",
    "            \"\"\"\n",
    "            Update \n",
    "            \"\"\"\n",
    "            # Obtain the current user\n",
    "            current_user = g.current_user\n",
    "            # Obtain the request data\n",
    "            data = request.get_json()\n",
    "            # Find the current post from the database table(s)\n",
    "            campingPost = camping.query.get(data['id'])\n",
    "            if campingPost is None:\n",
    "                return {'message': 'Post not found'}, 404\n",
    "            # Update the post\n",
    "            campingPost._title = data['title']\n",
    "            campingPost._channel_id = data['channel_id']\n",
    "            # Save the post\n",
    "            campingPost.update()\n",
    "            # Return response\n",
    "            return jsonify(campingPost.read())"
   ]
  },
  {
   "cell_type": "markdown",
   "metadata": {},
   "source": [
    "- method put will update an existing post "
   ]
  },
  {
   "cell_type": "code",
   "execution_count": null,
   "metadata": {
    "vscode": {
     "languageId": "typescript"
    }
   },
   "outputs": [],
   "source": [
    "@token_required()\n",
    "        def delete(self):\n",
    "            \"\"\"\n",
    "            Delete a post.\n",
    "            \"\"\"\n",
    "            # Obtain the current user\n",
    "            current_user = g.current_user \n",
    "            # Obtain the request data\n",
    "            data = request.get_json()\n",
    "            # Find the current post from the database table(s)\n",
    "            campingPost = camping.query.get(data['id'])\n",
    "            if campingPost is None:\n",
    "                return {'message': 'Post not found'}, 404\n",
    "            # Delete the post using the ORM method defined in the model\n",
    "            campingPost.delete()\n",
    "            # Return response\n",
    "            return jsonify({\"message\": \"Post deleted\"})"
   ]
  },
  {
   "cell_type": "markdown",
   "metadata": {},
   "source": [
    "- method delete will delete post from data table using SQLAlchemy orm method"
   ]
  },
  {
   "cell_type": "markdown",
   "metadata": {},
   "source": [
    "# Algorithmic Code Requests (CB Requirements)"
   ]
  },
  {
   "cell_type": "code",
   "execution_count": null,
   "metadata": {},
   "outputs": [],
   "source": [
    "class CampingAPI:\n",
    "    \n",
    "    class _CRUD(Resource):\n",
    "        @token_required()\n",
    "        def post(self):\n",
    "            \"\"\"\n",
    "            Create a new post.\n",
    "            \"\"\"\n",
    "            # Obtain the current user from the token required setting in the global context\n",
    "            current_user = g.current_user\n",
    "            # Obtain the request data sent by the RESTful client API\n",
    "            data = request.get_json()\n",
    "\n",
    "            # Validate the presence of required keys\n",
    "            if not data:\n",
    "                return {'message': 'No input data provided'}, 400\n",
    "            if 'title' not in data:\n",
    "                return {'message': 'Post title is required'}, 400\n",
    "            if 'comment' not in data:\n",
    "                return {'message': 'Post comment is required'}, 400\n",
    "            if 'channel_id' not in data:\n",
    "                return {'message': 'Channel ID is required'}, 400\n",
    "\n",
    "            # Create a new post object using the data from the request\n",
    "            campingPost = camping(data['title'], data['comment'], current_user.id, data['channel_id'])\n",
    "            # Save the post object using the Object Relational Mapper (ORM) method defined in the model\n",
    "            campingPost.create()\n",
    "            # Return response to the client in JSON format, converting Python dictionaries to JSON format\n",
    "            return jsonify(campingPost.read())\n",
    "\n",
    "        @token_required()\n",
    "        def get(self):\n",
    "            \"\"\"\n",
    "            Retrieve a single post by ID.\n",
    "            \"\"\"\n",
    "            # Obtain and validate the request data sent by the RESTful client API\n",
    "            data = request.get_json()\n",
    "            if data is None:\n",
    "                return {'message': 'Post data not found'}, 400\n",
    "            if 'id' not in data:\n",
    "                return {'message': 'Post ID not found'}, 400\n",
    "            # Find the post to read\n",
    "            campingPost = camping.query.get(data['id'])\n",
    "            if campingPost is None:\n",
    "                return {'message': 'Post not found'}, 404\n",
    "            # Convert Python object to JSON format \n",
    "            json_ready = campingPost.read()\n",
    "            # Return a JSON restful response to the client\n",
    "            return jsonify(json_ready)\n",
    "\n",
    "        @token_required()\n",
    "        def put(self):\n",
    "            \"\"\"\n",
    "            Update a post.\n",
    "            \"\"\"\n",
    "            # Obtain the current user\n",
    "            current_user = g.current_user\n",
    "            # Obtain the request data\n",
    "            data = request.get_json()\n",
    "            # Find the current post from the database table(s)\n",
    "            campingPost = camping.query.get(data['id'])\n",
    "            if campingPost is None:\n",
    "                return {'message': 'Post not found'}, 404\n",
    "            # Update the post\n",
    "            campingPost._title = data['title']\n",
    "            campingPost._channel_id = data['channel_id']\n",
    "            # Save the post\n",
    "            campingPost.update()\n",
    "            # Return response\n",
    "            return jsonify(campingPost.read())\n",
    "\n",
    "        @token_required()\n",
    "        def delete(self):\n",
    "            \"\"\"\n",
    "            Delete a post.\n",
    "            \"\"\"\n",
    "            # Obtain the current user\n",
    "            current_user = g.current_user \n",
    "            # Obtain the request data\n",
    "            data = request.get_json()\n",
    "            # Find the current post from the database table(s)\n",
    "            campingPost = camping.query.get(data['id'])\n",
    "            if campingPost is None:\n",
    "                return {'message': 'Post not found'}, 404\n",
    "            # Delete the post using the ORM method defined in the model\n",
    "            campingPost.delete()\n",
    "            # Return response\n",
    "            return jsonify({\"message\": \"Post deleted\"})\n",
    "\n",
    "    class _FILTER(Resource):\n",
    "        @token_required()\n",
    "        def post(self):\n",
    "            \"\"\"\n",
    "            Retrieve all posts by channel ID and user ID.\n",
    "            \"\"\"\n",
    "            # Obtain and validate the request data sent by the RESTful client API\n",
    "            data = request.get_json()\n",
    "            if data is None:\n",
    "                return {'message': 'Channel and User data not found'}, 400\n",
    "            if 'channel_id' not in data:\n",
    "                return {'message': 'Channel ID not found'}, 400\n",
    "            \n",
    "            # Find all posts by channel ID and user ID\n",
    "            campingPosts = camping.query.filter_by(_channel_id=data['channel_id']).all()\n",
    "            # Prepare a JSON list of all the posts, using list comprehension\n",
    "            json_ready = [campingPost.read() for campingPost in campingPosts]\n",
    "            # Return a JSON list, converting Python dictionaries to JSON format\n",
    "            return jsonify(json_ready)\n",
    "\n",
    "\n"
   ]
  },
  {
   "cell_type": "markdown",
   "metadata": {},
   "source": [
    "API class used to perform methods\n",
    "- API class: CampingAPI\n",
    "- class _CRUD used to create posts and delete posts\n",
    "- class _FILTER used to fetch channel-filtered posts \n",
    "\n",
    "Method/procedure containing sequencing, selection, and iteration\n",
    "- sequencing (order): obtain user, request data, make sure all required parameters are filled out, create new post, return in json\n",
    "- selection (decision making): determines whether to add post or display error message based on the if conditions \n",
    "- iteration (repeating): \n",
    "\n",
    "\n",
    "Parameters and return type \n",
    "- parameters: title, comment, channel_id, user_id\n",
    "- return jsonify converts dictionaries into json format. frontend will take data and display as html"
   ]
  },
  {
   "cell_type": "markdown",
   "metadata": {},
   "source": [
    "# Call to Algorithm Request\n",
    "**Call/request to method with Algorithm- fetching to endpoint**"
   ]
  },
  {
   "cell_type": "code",
   "execution_count": null,
   "metadata": {
    "vscode": {
     "languageId": "javascript"
    }
   },
   "outputs": [],
   "source": [
    "try {\n",
    "    const response = await fetch(`${pythonURI}/api/campingPost`, {\n",
    "      ...fetchOptions,\n",
    "      method: 'POST',\n",
    "      headers: { 'Content-Type': 'application/json' },\n",
    "      body: JSON.stringify(postData)\n",
    "    });\n",
    "\n",
    "    if (!response.ok) throw new Error('Failed to add post: ' + response.statusText);\n",
    "    alert(\"Post added successfully!\");\n",
    "\n",
    "    await fetchData(channelID); // Refresh posts for the current channel\n",
    "\n",
    "  } catch (error) {\n",
    "    console.error('Error adding post:', error);\n",
    "  }\n",
    "\n"
   ]
  },
  {
   "cell_type": "markdown",
   "metadata": {},
   "source": [
    "- sends request to POST method campingPost API endpoint\n"
   ]
  },
  {
   "cell_type": "code",
   "execution_count": null,
   "metadata": {
    "vscode": {
     "languageId": "javascript"
    }
   },
   "outputs": [],
   "source": [
    "async function fetchData(channelId) {\n",
    "    try {\n",
    "      const response = await fetch(`${pythonURI}/api/campingPosts/filter`, {\n",
    "        ...fetchOptions,\n",
    "            method: 'POST',\n",
    "            headers: {\n",
    "                'Content-Type': 'application/json'\n",
    "            },\n",
    "            body: JSON.stringify({ channel_id: channelId })\n",
    "        });\n",
    "        if (!response.ok) {\n",
    "            throw new Error('Failed to fetch posts: ' + response.statusText);\n",
    "        }\n",
    "    "
   ]
  },
  {
   "cell_type": "markdown",
   "metadata": {},
   "source": [
    "- request to POST method to campingPosts/filter API endpoint: only fetches posts from channel that user posted to\n",
    "- backend returns list of the posts under the channel_id (API response)\n"
   ]
  }
 ],
 "metadata": {
  "language_info": {
   "name": "python"
  }
 },
 "nbformat": 4,
 "nbformat_minor": 2
}
