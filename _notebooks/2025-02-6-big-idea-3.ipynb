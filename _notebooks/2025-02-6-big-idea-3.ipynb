{
 "cells": [
  {
   "cell_type": "code",
   "execution_count": null,
   "metadata": {
    "vscode": {
     "languageId": "plaintext"
    }
   },
   "outputs": [],
   "source": [
    "---\n",
    "layout: post\n",
    "title: Big Idea 3\n",
    "description: \n",
    "permalink: /big_idea_3/ \n",
    "--- "
   ]
  }
 ],
 "metadata": {
  "language_info": {
   "name": "python"
  }
 },
 "nbformat": 4,
 "nbformat_minor": 2
}
