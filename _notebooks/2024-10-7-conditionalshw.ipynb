{
 "cells": [
  {
   "cell_type": "markdown",
   "metadata": {},
   "source": [
    "---\n",
    "layout: post\n",
    "title: 3.6 and 3.7 Homework Sample \n",
    "description: example of how homework submission should go \n",
    "type: issues \n",
    "permalink: /homework/\n",
    "--- "
   ]
  },
  {
   "cell_type": "markdown",
   "metadata": {},
   "source": [
    "# If statements\n",
    "In this context, the statement represents a timer. I decide to take a nap for 30 minutes. If 30 minutes have passed, then the alarm tells me to wake up"
   ]
  },
  {
   "cell_type": "code",
   "execution_count": 2,
   "metadata": {},
   "outputs": [
    {
     "name": "stdout",
     "output_type": "stream",
     "text": [
      "Wake up!\n"
     ]
    }
   ],
   "source": [
    "%%python\n",
    "\n",
    "minutes_passed = 30\n",
    "\n",
    "def sound_alarm():\n",
    "    print(\"Wake up!\")\n",
    "\n",
    "if minutes_passed >= 30:\n",
    "    sound_alarm()"
   ]
  },
  {
   "cell_type": "markdown",
   "metadata": {},
   "source": [
    "# If else statements "
   ]
  },
  {
   "cell_type": "code",
   "execution_count": 3,
   "metadata": {},
   "outputs": [
    {
     "name": "stdout",
     "output_type": "stream",
     "text": [
      "Minor\n"
     ]
    }
   ],
   "source": [
    "%%python\n",
    "# Example\n",
    "number = 15\n",
    "\n",
    "if number > 17:\n",
    "    print(\"Adult\")\n",
    "else:\n",
    "    print(\"Minor\")"
   ]
  },
  {
   "cell_type": "markdown",
   "metadata": {},
   "source": [
    "# Nested conditionals \n",
    "This is a nested conditional with booleans "
   ]
  },
  {
   "cell_type": "code",
   "execution_count": 4,
   "metadata": {},
   "outputs": [
    {
     "name": "stdout",
     "output_type": "stream",
     "text": [
      "It's a sunny day! Enjoy the sunshine.\n"
     ]
    }
   ],
   "source": [
    "%%python\n",
    "# Weather conditions \n",
    "is_raining = False\n",
    "is_sunny = True\n",
    "is_cloudy = False\n",
    "\n",
    "# Determine the weather situation\n",
    "if is_raining:\n",
    "    print(\"It's raining.\")\n",
    "elif is_sunny:\n",
    "    print(\"It's a sunny day!\")\n",
    "elif is_cloudy:\n",
    "    print(\"It's cloudy but no rain.\")\n",
    "else:\n",
    "    print(\"The weather is unpredictable today.\")\n"
   ]
  }
 ],
 "metadata": {
  "kernelspec": {
   "display_name": "Python 3",
   "language": "python",
   "name": "python3"
  },
  "language_info": {
   "codemirror_mode": {
    "name": "ipython",
    "version": 3
   },
   "file_extension": ".py",
   "mimetype": "text/x-python",
   "name": "python",
   "nbconvert_exporter": "python",
   "pygments_lexer": "ipython3",
   "version": "3.10.12"
  }
 },
 "nbformat": 4,
 "nbformat_minor": 2
}
