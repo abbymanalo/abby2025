{
 "cells": [
  {
   "cell_type": "code",
   "execution_count": null,
   "metadata": {
    "vscode": {
     "languageId": "plaintext"
    }
   },
   "outputs": [],
   "source": [
    "---\n",
    "layout: post\n",
    "title: CPT Project\n",
    "description: Home page to navigate blogs for CPT Project Components \n",
    "permalink: /cpt_project/ \n",
    "menu: nav/cpt_project.html\n",
    "--- "
   ]
  }
 ],
 "metadata": {
  "language_info": {
   "name": "python"
  }
 },
 "nbformat": 4,
 "nbformat_minor": 2
}
