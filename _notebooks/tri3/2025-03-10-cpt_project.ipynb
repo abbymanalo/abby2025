{
 "cells": [
  {
   "cell_type": "code",
   "execution_count": null,
   "metadata": {
    "vscode": {
     "languageId": "plaintext"
    }
   },
   "outputs": [],
   "source": [
    "---\n",
    "layout: post\n",
    "title: CPT Project\n",
    "description: Home page to navigate blogs for CPT Project Components \n",
    "permalink: /cpt_project/ \n",
    "menu: nav/cpt_project.html\n",
    "--- "
   ]
  },
  {
   "cell_type": "markdown",
   "metadata": {},
   "source": [
    "[Link to Create Performance Task Directions](https://apcentral.collegeboard.org/media/pdf/ap-csp-student-task-directions.pdf)\n"
   ]
  },
  {
   "cell_type": "markdown",
   "metadata": {},
   "source": [
    "The Create Performance Task consists of 3 components, A-C, that must be completed.\n",
    "- Component A: Program Code\n",
    "- Component B: Video Demo\n",
    "- Component C: Personalized Project Reference "
   ]
  },
  {
   "cell_type": "markdown",
   "metadata": {},
   "source": [
    "<script src=\"https://utteranc.es/client.js\"\n",
    "        repo=\"abbymanalo/abby2025\"\n",
    "        issue-term=\"pathname\"\n",
    "        theme=\"github-light\"\n",
    "        crossorigin=\"anonymous\"\n",
    "        async>\n",
    "</script>"
   ]
  }
 ],
 "metadata": {
  "language_info": {
   "name": "python"
  }
 },
 "nbformat": 4,
 "nbformat_minor": 2
}
