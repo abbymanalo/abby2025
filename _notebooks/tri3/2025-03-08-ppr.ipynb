{
 "cells": [
  {
   "cell_type": "code",
   "execution_count": null,
   "metadata": {
    "vscode": {
     "languageId": "plaintext"
    }
   },
   "outputs": [],
   "source": [
    "---\n",
    "layout: post\n",
    "title: Personalized Project Reference \n",
    "description: Component C of CPT\n",
    "permalink: /ppr/ \n",
    "menu: nav/cpt_project.html\n",
    "--- "
   ]
  },
  {
   "cell_type": "markdown",
   "metadata": {},
   "source": [
    "## 4 Question Domains\n",
    "- WR 1: Program Design, Function, and Purpose \n",
    "- WR 2(a): Algorithm Development\n",
    "- WR 2(b): Errors and Testing\n",
    "- WR 2(c): Data and Procedural Abstraction \n",
    "\n",
    "*PPR submitted with digital portfolio and will be referenced when answering written response prompts "
   ]
  },
  {
   "cell_type": "markdown",
   "metadata": {},
   "source": [
    "## What is under the PPR: \n",
    "4 Code segments to be submitted\n",
    "1. List creation\n",
    "2. List process\n",
    "3. Function (with parameters that goes through the list and has an if else statement)\n",
    "4. The call to function "
   ]
  },
  {
   "cell_type": "markdown",
   "metadata": {},
   "source": [
    "# 1. List Creation - camping post api, class _FILTER"
   ]
  },
  {
   "cell_type": "code",
   "execution_count": null,
   "metadata": {},
   "outputs": [],
   "source": [
    "json_ready = [campingPost.read() for campingPost in camping_posts]\n"
   ]
  },
  {
   "cell_type": "markdown",
   "metadata": {},
   "source": [
    "This gathers all camping posts from the campingPost database table and processes each one using the .read() method."
   ]
  },
  {
   "cell_type": "markdown",
   "metadata": {},
   "source": [
    "# 2. List Process "
   ]
  },
  {
   "cell_type": "code",
   "execution_count": null,
   "metadata": {},
   "outputs": [],
   "source": [
    "json_ready = [campingPost.read() for campingPost in camping_posts]\n"
   ]
  },
  {
   "cell_type": "markdown",
   "metadata": {},
   "source": [
    "This creates a list called json_ready by iterating (for loop) over each campingPost in the camping_posts list and calling its read() method"
   ]
  },
  {
   "cell_type": "markdown",
   "metadata": {},
   "source": [
    "# 3. Function "
   ]
  },
  {
   "cell_type": "code",
   "execution_count": null,
   "metadata": {},
   "outputs": [],
   "source": [
    "def post(self):\n",
    "    data = request.get_json()\n",
    "    if data is None:\n",
    "        return {'message': 'Channel and User data not found'}, 400\n",
    "    if 'channel_id' not in data:\n",
    "        return {'message': 'Channel ID not found'}, 400\n"
   ]
  },
  {
   "cell_type": "markdown",
   "metadata": {},
   "source": [
    "The post(self) method retrieves and validates the JSON data sent in the request; if the data is missing or lacks the channel_id field, it returns an error message with a 400 status code indicating bad input (selection: if else statement)"
   ]
  },
  {
   "cell_type": "markdown",
   "metadata": {},
   "source": [
    "# 4. Call to Function"
   ]
  },
  {
   "cell_type": "code",
   "execution_count": null,
   "metadata": {},
   "outputs": [],
   "source": [
    "camping_posts = camping.query.filter_by(_channel_id=data['channel_id']).all()\n"
   ]
  },
  {
   "cell_type": "markdown",
   "metadata": {},
   "source": [
    "Calls to database for camping posts with specified channel, which is under the post function that's under class _FILTER. "
   ]
  },
  {
   "cell_type": "markdown",
   "metadata": {},
   "source": [
    "<script src=\"https://utteranc.es/client.js\"\n",
    "        repo=\"abbymanalo/abby2025\"\n",
    "        issue-term=\"pathname\"\n",
    "        theme=\"github-light\"\n",
    "        crossorigin=\"anonymous\"\n",
    "        async>\n",
    "</script>"
   ]
  }
 ],
 "metadata": {
  "language_info": {
   "name": "python"
  }
 },
 "nbformat": 4,
 "nbformat_minor": 2
}
