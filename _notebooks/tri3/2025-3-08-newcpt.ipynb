{
 "cells": [
  {
   "cell_type": "code",
   "execution_count": null,
   "metadata": {
    "vscode": {
     "languageId": "plaintext"
    }
   },
   "outputs": [],
   "source": [
    "---\n",
    "layout: post\n",
    "title: CPT Requirements \n",
    "description: Component A- Program Code \n",
    "permalink: /cpt_requirements/ \n",
    "menu: nav/cpt_project.html\n",
    "--- "
   ]
  },
  {
   "cell_type": "markdown",
   "metadata": {},
   "source": [
    "## List of CPT Requirements: "
   ]
  },
  {
   "cell_type": "markdown",
   "metadata": {},
   "source": [
    "1. Use of at least one list (or other collection type) to represent a collection of\n",
    "data that is stored and used to manage program complexity and help fulfill\n",
    "the program’s purpose\n",
    "2. At least one procedure that contributes to the program’s intended purpose,\n",
    "where you have defined:\n",
    "- the procedure’s name\n",
    "- the return type (if necessary)\n",
    "- one or more parameters\n",
    "3. An algorithm that includes sequencing, selection, and iteration that is in the\n",
    "body of the selected procedure\n",
    "4. Calls to your student-developed procedure\n",
    "5. Instructions for output (tactile, audible, visual, or textual) based on input and\n",
    "program functionality"
   ]
  },
  {
   "cell_type": "markdown",
   "metadata": {},
   "source": [
    "# 1. Lists "
   ]
  },
  {
   "cell_type": "code",
   "execution_count": null,
   "metadata": {},
   "outputs": [],
   "source": [
    "camping_posts = camping.query.filter_by(_channel_id=data['channel_id']).all()  # Collect posts from databse by channel id\n",
    "json_ready = [campingPost.read() for campingPost in camping_posts]  # stores result as a list of dictionaries\n",
    "return jsonify(json_ready)  # return list as JSON response\n"
   ]
  },
  {
   "cell_type": "markdown",
   "metadata": {},
   "source": [
    "This snippet is located in class _FILTER\n",
    "- collection of data are the camping posts\n",
    "- fulfills purpose to communicate with camping enthusiasts so that the user posts can be displayed "
   ]
  },
  {
   "cell_type": "markdown",
   "metadata": {},
   "source": [
    "# 2. Procedure "
   ]
  },
  {
   "cell_type": "code",
   "execution_count": null,
   "metadata": {},
   "outputs": [],
   "source": [
    "@token_required()\n",
    "def post(self):\n",
    "    current_user = g.current_user\n",
    "    data = request.get_json()\n",
    "\n",
    "    if not data:\n",
    "        return {'message': 'No input data provided'}, 400\n",
    "    if 'title' not in data or 'comment' not in data or 'channel_id' not in data:\n",
    "        return {'message': 'Missing required fields'}, 400\n",
    "\n",
    "    campingPost = camping(data['title'], data['comment'], current_user.id, data['channel_id'])\n",
    "    campingPost.create()\n",
    "    \n",
    "    return jsonify(campingPost.read())\n"
   ]
  },
  {
   "cell_type": "markdown",
   "metadata": {},
   "source": [
    "Snippet from class _CRUD\n",
    "- Procedure name: post\n",
    "- Parameters: title, comment, channel id"
   ]
  },
  {
   "cell_type": "markdown",
   "metadata": {},
   "source": [
    "# 3. Algorithm with Sequencing, Selection, Iteration "
   ]
  },
  {
   "cell_type": "code",
   "execution_count": null,
   "metadata": {},
   "outputs": [],
   "source": [
    "if not data:\n",
    "    return {'message': 'No input data provided'}, 400  \n",
    "if 'title' not in data or 'comment' not in data or 'channel_id' not in data:\n",
    "    return {'message': 'Missing required fields'}, 400  \n",
    "\n",
    "campingPost = camping(data['title'], data['comment'], current_user.id, data['channel_id'])\n",
    "campingPost.create()  \n",
    "\n",
    "camping_posts = camping.query.filter_by(_channel_id=data['channel_id']).all()  \n",
    "json_ready = [campingPost.read() for campingPost in camping_posts]  \n"
   ]
  },
  {
   "cell_type": "markdown",
   "metadata": {},
   "source": [
    "Snippet from class _CRUD\n",
    "- Selection (if else statements): checks if data exists, if not return error message\n",
    "- Sequencing (step by step): step by step to collect data then create post\n",
    "- Iteration (for loops): repeatedly going through each camping post in the list of posts and converting each post into JSON format "
   ]
  },
  {
   "cell_type": "markdown",
   "metadata": {},
   "source": [
    "# 4. Call to Procedure "
   ]
  },
  {
   "cell_type": "code",
   "execution_count": null,
   "metadata": {},
   "outputs": [],
   "source": [
    "campingPost.create()"
   ]
  },
  {
   "cell_type": "markdown",
   "metadata": {},
   "source": [
    "Snippet from class _CRUD\n",
    "- calls to campingPost model to save post into database"
   ]
  },
  {
   "cell_type": "markdown",
   "metadata": {},
   "source": [
    "# 5. Instructions for output"
   ]
  },
  {
   "cell_type": "code",
   "execution_count": null,
   "metadata": {},
   "outputs": [],
   "source": [
    "return jsonify(campingPost.read()) "
   ]
  },
  {
   "cell_type": "markdown",
   "metadata": {},
   "source": [
    "Snippet from class _CRUD\n",
    "- Returns data in JSON format, which the frontend uses to dynamically display HTML content"
   ]
  }
 ],
 "metadata": {
  "language_info": {
   "name": "python"
  }
 },
 "nbformat": 4,
 "nbformat_minor": 2
}
