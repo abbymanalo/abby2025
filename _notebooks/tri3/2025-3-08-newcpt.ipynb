{
 "cells": [
  {
   "cell_type": "code",
   "execution_count": null,
   "metadata": {
    "vscode": {
     "languageId": "plaintext"
    }
   },
   "outputs": [],
   "source": [
    "---\n",
    "layout: post\n",
    "title: CPT Requirements \n",
    "description: Component A: Program Code \n",
    "permalink: /cpt_requirements/ \n",
    "menu: nav/cpt_project.html\n",
    "--- "
   ]
  }
 ],
 "metadata": {
  "language_info": {
   "name": "python"
  }
 },
 "nbformat": 4,
 "nbformat_minor": 2
}
