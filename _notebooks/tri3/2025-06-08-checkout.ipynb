{
 "cells": [
  {
   "cell_type": "markdown",
   "id": "54a4865b",
   "metadata": {},
   "source": [
    "---\n",
    "layout: post\n",
    "title: Checkout Review \n",
    "description: Final Revew \n",
    "permalink: /checkout\n",
    "--- "
   ]
  },
  {
   "cell_type": "markdown",
   "id": "227f864e",
   "metadata": {},
   "source": [
    "# Overview of Projects \n",
    "## [DNA Dynamite](https://open-coding-society.github.io/dna_dynamite/) \n",
    "\n",
    "###  Description: \n",
    "\n",
    "**Role:** Coder\n",
    "\n",
    "**Contributions:**\n",
    "- DNA Strand functionality \n",
    "- Review page\n",
    "- fixing sizing of trivia quiz\n",
    "- working on index.html of backend \n",
    "\n",
    "## [Project Frostbyte](https://blackstar3092.github.io/frostbyte_frontend/)\n",
    "\n",
    "###  Description: \n",
    "\n",
    "**Role:** Coder, Frontend Documentation \n",
    "- Post feature\n",
    "- Frontend Documentation\n",
    "- Prune obsolete files and features "
   ]
  },
  {
   "cell_type": "markdown",
   "id": "8f2f3f36",
   "metadata": {},
   "source": [
    "# Homework Success \n",
    "[Link to Homework Page Here]({{ site.baseurl }}/homeworkhome)"
   ]
  },
  {
   "cell_type": "markdown",
   "id": "8d2f4284",
   "metadata": {},
   "source": [
    "# Night at the Museum June 2025 \n",
    "<style>\n",
    "  .carousel {\n",
    "    display: flex;\n",
    "    overflow-x: auto;\n",
    "    scroll-snap-type: x mandatory;\n",
    "    gap: 0.75rem;\n",
    "    padding: 0.75rem;\n",
    "    width: fit-content;\n",
    "  }\n",
    "\n",
    "  .carousel img {\n",
    "    width: 300px;  /* Wider images */\n",
    "    height: 170px; /* Taller images */\n",
    "    object-fit: cover;\n",
    "    scroll-snap-align: center;\n",
    "    border-radius: 10px;\n",
    "  }\n",
    "\n",
    "  .carousel::-webkit-scrollbar {\n",
    "    display: none;\n",
    "  }\n",
    "</style>\n",
    "\n",
    "<div class=\"carousel\">\n",
    "  <img src=\"{{ site.baseurl }}/images/dnaNATM.JPG\" alt=\"Slide 1\" />\n",
    "  <img src=\"{{ site.baseurl }}/images/demonstrate.jpeg\" alt=\"Slide 2\" />\n",
    "</div>\n"
   ]
  },
  {
   "cell_type": "markdown",
   "id": "5623ee7d",
   "metadata": {},
   "source": [
    "# Stats \n",
    "[ View My Github Here](https://github.com/abbymanalo) \n",
    "\n",
    "<img src=\"{{ site.baseurl }}/images/greensquares.png\" alt=\"Slide 1\" />"
   ]
  }
 ],
 "metadata": {
  "language_info": {
   "name": "python"
  }
 },
 "nbformat": 4,
 "nbformat_minor": 5
}
