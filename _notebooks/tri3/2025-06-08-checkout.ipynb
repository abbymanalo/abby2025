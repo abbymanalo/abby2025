{
 "cells": [
  {
   "cell_type": "markdown",
   "id": "54a4865b",
   "metadata": {},
   "source": [
    "---\n",
    "layout: post\n",
    "title: Final Review \n",
    "description: Work from Trimester 3\n",
    "permalink: /checkout\n",
    "--- "
   ]
  },
  {
   "cell_type": "markdown",
   "id": "227f864e",
   "metadata": {},
   "source": [
    "# Overview of Projects \n",
    "## [DNA Dynamite](https://open-coding-society.github.io/dna_dynamite/) \n",
    "\n",
    "###  Description: \n",
    "An educational web game that introduces DNA base pairing through interactive, fast-paced challenges. Players must correctly pair DNA bases before the sequence disappears, while concept-reinforcing trivia that is integrated with Google Gemini, which helps deepen understanding of basic biology after errors. High scores are stored with the High Score API and displayed on the leaderboard to encourage users to beat their high score, increasing their practice with DNA Dynamite. \n",
    "\n",
    "**Role:** Coder\n",
    "\n",
    "**Contributions:**\n",
    "- DNA Strand functionality \n",
    "- Review page\n",
    "- fixing sizing of trivia quiz\n",
    "- working on index.html of backend \n",
    "\n",
    "## [Project Frostbyte](https://blackstar3092.github.io/frostbyte_frontend/)\n",
    "\n",
    "###  Description: \n",
    "Frostbyte is a social web platform for discovering, reviewing, and rating U.S. national parks. Users can explore park details, share personal experiences, and connect with a community of outdoor enthusiasts. Frostbyte allows users to explore the world of camping through a review system, star rating system, Google Maps integration, Google Gemini integration, and a personality quiz that matches the user to their best-fit national park.\n",
    "\n",
    "**Role:** Coder, Frontend Documentation \n",
    "- Post feature\n",
    "- Frontend Documentation\n",
    "- Prune obsolete files and features "
   ]
  },
  {
   "cell_type": "markdown",
   "id": "a9df4d5d",
   "metadata": {},
   "source": [
    "# Credentials \n",
    "| **Credential** | **Title** | **Description** |\n",
    "|------------------------|\n",
    "| Certificate  | Foundation   |   Practical skills in software development tools, including managing code versions with GitHub, writing and editing code efficiently in Visual Studio Code, and using terminal commands to navigate files, run programs, and perform basic system tasks.   |\n",
    "| Certificate | Computer Science Principles  | Worked on data analysis with Python, foundational Linux commands, and deployment concepts relevant to modern computing environments. |\n",
    "|  NFT    | Interactive DNA Strand NFT  |  Interactive strand for user to familiarize themselves with DNA base pairing.  |"
   ]
  },
  {
   "cell_type": "markdown",
   "id": "8f2f3f36",
   "metadata": {},
   "source": [
    "# Homework Success \n",
    "[Link to Homework Page Here]({{ site.baseurl }}/homeworkhome)"
   ]
  },
  {
   "cell_type": "markdown",
   "id": "8d2f4284",
   "metadata": {},
   "source": [
    "# Night at the Museum June 2025 \n",
    "<style>\n",
    "  .carousel {\n",
    "    display: flex;\n",
    "    overflow-x: auto;\n",
    "    scroll-snap-type: x mandatory;\n",
    "    gap: 0.75rem;\n",
    "    padding: 0.75rem;\n",
    "    width: fit-content;\n",
    "  }\n",
    "\n",
    "  .carousel img {\n",
    "    width: 300px;  /* Wider images */\n",
    "    height: 170px; /* Taller images */\n",
    "    object-fit: cover;\n",
    "    scroll-snap-align: center;\n",
    "    border-radius: 10px;\n",
    "  }\n",
    "\n",
    "  .carousel::-webkit-scrollbar {\n",
    "    display: none;\n",
    "  }\n",
    "</style>\n",
    "\n",
    "<div class=\"carousel\">\n",
    "  <img src=\"{{ site.baseurl }}/images/dnaNATM.JPG\" alt=\"Slide 1\" />\n",
    "  <img src=\"{{ site.baseurl }}/images/demonstrate.jpeg\" alt=\"Slide 2\" />\n",
    "</div>\n",
    "\n",
    "- oppurtunity to showcase project\n",
    "- shared our process and recieved feedback by professionals \n",
    "- practiced speaking skills, especially in explaining the game \n",
    "\n"
   ]
  },
  {
   "cell_type": "markdown",
   "id": "5623ee7d",
   "metadata": {},
   "source": [
    "# Stats \n",
    "[ View My Github Here](https://github.com/abbymanalo) \n",
    "\n",
    "<img src=\"{{ site.baseurl }}/images/greensquares.png\" alt=\"Slide 1\" />\n",
    "\n",
    "**My commits on other repos:**\n",
    "- [DNA Dynamite frontend](https://github.com/Open-Coding-Society/dna_dynamite/graphs/contributors)\n",
    "- [DNA Dynamite backend](https://github.com/Open-Coding-Society/dna_dynamite_backend/graphs/contributors)\n",
    "- [Project Frostbyte frontend](https://github.com/blackstar3092/frostbyte_frontend/graphs/contributors)\n",
    "- [Project Frostbye backend](https://github.com/blackstar3092/frostbyte_backend/graphs/contributors)"
   ]
  }
 ],
 "metadata": {
  "language_info": {
   "name": "python"
  }
 },
 "nbformat": 4,
 "nbformat_minor": 5
}
