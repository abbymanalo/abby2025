{
 "cells": [
  {
   "cell_type": "markdown",
   "id": "d5a0d834",
   "metadata": {},
   "source": [
    "---\n",
    "layout: post\n",
    "title:  Cyber Security Panel\n",
    "description: Notes\n",
    "permalink: /cyber\n",
    "--- "
   ]
  }
 ],
 "metadata": {
  "language_info": {
   "name": "python"
  }
 },
 "nbformat": 4,
 "nbformat_minor": 5
}
