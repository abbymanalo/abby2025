{
 "cells": [
  {
   "cell_type": "markdown",
   "id": "d5a0d834",
   "metadata": {},
   "source": [
    "---\n",
    "layout: post\n",
    "title:  Cyber Security Panel \n",
    "description: Extra Credit Blog\n",
    "permalink: /cyber\n",
    "--- "
   ]
  },
  {
   "cell_type": "markdown",
   "id": "f94d5bf7",
   "metadata": {},
   "source": [
    "## Notes/Keytakeaways"
   ]
  },
  {
   "cell_type": "markdown",
   "id": "846fdebc",
   "metadata": {},
   "source": [
    "### Threats\n",
    "- Ransomwear: costs tens of billions of dollars a year\n",
    "- phishing: runs phishing testing regularly\n",
    "\n",
    "### Their Personal Paths to Current Career\n",
    "- studied computers in the 90's knowing that they'd be the future. Inspired by book about computer espionage. \n",
    "- Came from software engineerin and millitary. Found parallels in millitary and cyber security. \n",
    "\n",
    "### Reccomended Next Steps for Students \n",
    "- gain background in IT\n",
    "- work on soft skills\n",
    "- build your network\n",
    "- join hackathons \n",
    "\n",
    "\n",
    "### Additional Advice\n",
    "- In the next 5-10 years almost every company is going to hire someone in cybersecurity\n",
    "- Stay aware of other countriesand do research with cyber vunerabilities\n",
    "- Will need a network to identify good workers and be valuable to others so that they can help you in the future\n",
    "- Can't go home thinking you're done with your work. The best people continue to work and research even at night"
   ]
  },
  {
   "cell_type": "markdown",
   "id": "687df283",
   "metadata": {},
   "source": [
    "<img src=\"images/cyber.jpeg\" alt=\"cyber selfie\">\n"
   ]
  }
 ],
 "metadata": {
  "language_info": {
   "name": "python"
  }
 },
 "nbformat": 4,
 "nbformat_minor": 5
}
