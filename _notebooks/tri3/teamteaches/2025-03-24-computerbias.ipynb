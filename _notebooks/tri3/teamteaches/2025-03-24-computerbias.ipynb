{
 "cells": [
  {
   "cell_type": "markdown",
   "metadata": {},
   "source": [
    "---\n",
    "layout: post\n",
    "title: Computer Bias\n",
    "description: Popcorn Hacks and Homework Hacks\n",
    "permalink: /computerbias\n",
    "--- "
   ]
  },
  {
   "cell_type": "markdown",
   "metadata": {},
   "source": [
    "# Popcorn Hacks\n",
    "## Popcon Hack #1\n",
    "Provide an example of a movie, TV show, video game, or software that demonstrates bias and specify who is affected by it. Explain a potential cause of this bias.\n",
    "\n",
    "-\n",
    "\n",
    "\n",
    "## Popcorn Hack #2 \n",
    "Think about a timme when you felt technology didn't work well for you. What was the issue, and how did it make you feel? Whrite a short paragraph describing the experience and suggest one way the technology could be improved to be more inclusive. \n",
    "\n",
    "- \n"
   ]
  }
 ],
 "metadata": {
  "language_info": {
   "name": "python"
  }
 },
 "nbformat": 4,
 "nbformat_minor": 2
}
