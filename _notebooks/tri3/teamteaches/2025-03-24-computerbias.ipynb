{
 "cells": [
  {
   "cell_type": "markdown",
   "metadata": {},
   "source": [
    "---\n",
    "layout: post\n",
    "title: Computing Bias\n",
    "description: Popcorn Hacks and Homework Hacks\n",
    "permalink: /computingbias\n",
    "--- "
   ]
  },
  {
   "cell_type": "markdown",
   "metadata": {},
   "source": [
    "# Popcorn Hacks\n",
    "## Popcon Hack #1\n",
    "Provide an example of a movie, TV show, video game, or software that demonstrates bias and specify who is affected by it. Explain a potential cause of this bias.\n",
    "\n",
    "- In Friends, the lack of diversity in the show has been criticized for not being diverse. Most characters are white, and people of color have very small roles, which makes the show unrepresentative. This bias most likely came from the entertainment industry's preference for casting mostly white actors at the time.\n",
    "\n",
    "\n",
    "## Popcorn Hack #2 \n",
    "Think about a timme when you felt technology didn't work well for you. What was the issue, and how did it make you feel? Whrite a short paragraph describing the experience and suggest one way the technology could be improved to be more inclusive. \n",
    "\n",
    "- When I try to open google docs, sheets, etc on my phone through my browser, the sizing doesn't convert properly. It would force me to download their app for better user experience. It was annoying and I realized I'd have to de extra work to just look at a doc on my phone. The technology could be improved by making sure the screen sizing works on any size device. \n",
    "\n",
    "\n",
    "## Popcorn Hack #3\n",
    "Imagine you're desiginga fitness tracking app. How could bias sneak into your app's reccomendations or performance evaluations? Think about users with different physical abilities, apps, or health conditions. What features could you add to ensure the app is fair and incus9ve for all users.\n",
    "\n",
    "- Bias could sneak in by not having resources for people with different physical abilities and limitations\n",
    "- There could be a feedback section where if users don't feel like they're being accounted for, they can make a request or statement that the programmers would use as a prompt to add new features\n"
   ]
  },
  {
   "cell_type": "markdown",
   "metadata": {},
   "source": [
    "# Homework Hack #1:\n",
    "Choose a digital tool, app, or website you use regularly. It could be a social media platform, a shopping site, or a streaming service.\n",
    "Identify Potential Bias: Are there any patterns in the recommendations or interactions that might suggest bias? Does the platform cater well to different user groups (e.g., age, gender, language, accessibility)?\n",
    "Analyze the Cause: What might be causing this bias? Consider data collection, algorithm design, or lack of diverse testing.\n",
    "Propose a Solution: Suggest one way the developers could reduce bias and make the platform more inclusive.\n",
    "\n",
    "- Digital Tool: Pinterest\n",
    "- Potential Bias: After you pin or look up a certain image, your feed will show up with a lot of the same types of images. It becomes very repetitve and not user friendly because the user is overwhelmed or bored of seeing the exact same thing over and over again. \n",
    "- Cause: The algorithm is probably designed to take note of the content the user encounters and wants to show more of it in order to get more user engagement, but in this case it's a bit overkill.\n",
    "- Solution: developers could reduce this bias by making the suggestions not as intense "
   ]
  }
 ],
 "metadata": {
  "language_info": {
   "name": "python"
  }
 },
 "nbformat": 4,
 "nbformat_minor": 2
}
