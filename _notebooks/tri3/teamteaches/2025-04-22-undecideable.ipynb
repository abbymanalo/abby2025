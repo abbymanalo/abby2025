{
 "cells": [
  {
   "cell_type": "markdown",
   "id": "513ed0a5",
   "metadata": {},
   "source": [
    "---\n",
    "layout: post\n",
    "title: Undecideable and Decideable Problems in Computer Science + Graphs and Heuristics\n",
    "description: Popcorn Hacks and Homework Hacks\n",
    "permalink: /undecideable\n",
    "--- "
   ]
  },
  {
   "cell_type": "markdown",
   "id": "dcc271af",
   "metadata": {},
   "source": [
    "# Undecideable and Decideable Problems "
   ]
  },
  {
   "cell_type": "markdown",
   "id": "ed79e378",
   "metadata": {},
   "source": [
    "## Popcorn Hack #1\n",
    "False \n",
    "\n",
    "## Popcorn Hack #2\n",
    "True\n",
    "\n",
    "## Popcorn Hack #3\n",
    "D. Bubble Sorting "
   ]
  },
  {
   "cell_type": "markdown",
   "id": "2d0599fd",
   "metadata": {},
   "source": [
    "## Homework \n"
   ]
  },
  {
   "cell_type": "markdown",
   "id": "5a73174b",
   "metadata": {},
   "source": [
    "# Graphs and Heuristics "
   ]
  },
  {
   "cell_type": "markdown",
   "id": "f1d5ebd2",
   "metadata": {},
   "source": [
    "## Popcorn Hack #1\n",
    "False\n",
    "\n",
    "## Popcorn Hack #2\n",
    "True \n",
    "\n",
    "## Popcorn Hack #3\n",
    "True "
   ]
  },
  {
   "cell_type": "markdown",
   "id": "8022e52f",
   "metadata": {},
   "source": [
    "## Homework "
   ]
  }
 ],
 "metadata": {
  "language_info": {
   "name": "python"
  }
 },
 "nbformat": 4,
 "nbformat_minor": 5
}
