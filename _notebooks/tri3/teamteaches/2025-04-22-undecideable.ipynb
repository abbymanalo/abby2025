{
 "cells": [
  {
   "cell_type": "markdown",
   "id": "513ed0a5",
   "metadata": {},
   "source": [
    "---\n",
    "layout: post\n",
    "title: Undecideable and Decideable Problems in Computer Science + Graphs and Heuristics\n",
    "description: Popcorn Hacks and Homework Hacks\n",
    "permalink: /undecideable\n",
    "--- "
   ]
  },
  {
   "cell_type": "markdown",
   "id": "dcc271af",
   "metadata": {},
   "source": [
    "# Undecideable and Decideable Problems "
   ]
  },
  {
   "cell_type": "markdown",
   "id": "ed79e378",
   "metadata": {},
   "source": [
    "## Popcorn Hack #1\n",
    "False \n",
    "\n",
    "## Popcorn Hack #2\n",
    "True\n",
    "\n",
    "## Popcorn Hack #3\n",
    "D. Bubble Sorting "
   ]
  },
  {
   "cell_type": "markdown",
   "id": "2d0599fd",
   "metadata": {},
   "source": [
    "# Homework \n",
    "## Modern Operating Systems\n",
    "\n",
    "### What they do\n",
    "- detect and manage programs stuck in infinite loops or running too long\n",
    "- prevent a single misbehaving app from crashing the entire system\n",
    "\n",
    "### Mechanisms in place\n",
    "- task manager / activity monitor: lets users view and force-quit high-cpu processes\n",
    "- process isolation: one program can’t crash others due to sandboxing and memory protection\n",
    "\n",
    "### Real-world examples\n",
    "- windows: \"not responding\" dialog when an app freezes\n",
    "- macos: spinning beachball cursor, with the option to force quit the app\n",
    "\n",
    "---\n",
    "\n",
    "## Modern Web Browsers\n",
    "\n",
    "### What they do\n",
    "- monitor scripts (usually javascript) that run too long or infinitely loop\n",
    "- stop them to keep the browser responsive\n",
    "\n",
    "### Mechanisms in place\n",
    "- script timeouts: if a script runs too long without yielding, the browser warns the user\n",
    "- tab isolation: each tab runs in its own process. one tab freezing doesn’t affect others\n",
    "\n",
    "### Real-world examples\n",
    "- chrome and firefox both eventually display a warning with an option to stop the script"
   ]
  },
  {
   "cell_type": "markdown",
   "id": "5a73174b",
   "metadata": {},
   "source": [
    "# Graphs and Heuristics "
   ]
  },
  {
   "cell_type": "markdown",
   "id": "f1d5ebd2",
   "metadata": {},
   "source": [
    "## Popcorn Hack #1\n",
    "False\n",
    "\n",
    "## Popcorn Hack #2\n",
    "True \n",
    "\n",
    "## Popcorn Hack #3\n",
    "True "
   ]
  },
  {
   "cell_type": "markdown",
   "id": "8022e52f",
   "metadata": {},
   "source": [
    "## Homework\n",
    "\n",
    "### Social Network Analysis\n",
    "- Social Network Analysis (SNA) is the process of investigating social structures through networks and graph theory.\n",
    "- It helps in understanding relationships, interactions, and patterns in social media platforms.\n",
    "\n",
    "### Representation of Users and Relationships\n",
    "- Users as nodes:\n",
    "  - Each user is represented as a node (also called a vertex) in the graph.\n",
    "  - Nodes can represent individuals, organizations, or groups.\n",
    "  \n",
    "- Relationships as edges:\n",
    "  - Edges (also called links or ties) connect the nodes and represent relationships.\n",
    "  - Relationships can be friendships, follows, messages, or any type of interaction.\n",
    "  - Directed edges represent one-way relationships (e.g., following someone), while undirected edges represent mutual relationships (e.g., friends).\n",
    "\n",
    "### Real-World Example: Facebook\n",
    "- Graph theory in action:\n",
    "  - On Facebook, users are nodes, and the \"friend\" relationship between users is represented as an undirected edge.\n",
    "  - Facebook analyzes these connections to suggest new friends, track interactions, and even target ads based on user behavior.\n",
    "  - The platform uses graph theory to identify communities, influence spread (e.g., viral content), and measure social capital (how influential a user is based on their connections).\n"
   ]
  }
 ],
 "metadata": {
  "language_info": {
   "name": "python"
  }
 },
 "nbformat": 4,
 "nbformat_minor": 5
}
