{
 "cells": [
  {
   "cell_type": "markdown",
   "metadata": {
    "vscode": {
     "languageId": "plaintext"
    }
   },
   "source": [
    "---\n",
    "layout: post\n",
    "title:  Safe Computing\n",
    "description: Popcorn Hacks and Homework Hacks\n",
    "permalink: /safecomputing \n",
    "--- "
   ]
  },
  {
   "cell_type": "markdown",
   "metadata": {},
   "source": [
    "## Popcorn Hack #1\n",
    "Identify PII\n",
    " \n",
    "A. Fingerprint - can directly be traced back to someone \n",
    "\n",
    "## Popcorn Hack #2\n",
    "Not an example of MFA factor\n",
    "\n",
    "A. A password used to log into an email account \n",
    "\n",
    "D. A username required to log in. \n",
    "\n",
    "## Popcorn Hack #3\n",
    "Which is an example of symmetric encryption \n",
    "\n",
    "B. Finn and Gwen - using the same code to secure and decode letter\n",
    "\n",
    "## Popcorn Hack #4\n",
    "Testing password security\n",
    "\n",
    "What makes a good password: More characters, character variety, numbers, symbols \n",
    "\n"
   ]
  }
 ],
 "metadata": {
  "language_info": {
   "name": "python"
  }
 },
 "nbformat": 4,
 "nbformat_minor": 2
}
