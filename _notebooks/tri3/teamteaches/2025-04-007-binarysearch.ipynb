{
 "cells": [
  {
   "cell_type": "markdown",
   "metadata": {},
   "source": [
    "---\n",
    "layout: post\n",
    "title:  Binary Search \n",
    "description: Popcorn Hacks and Homework Hacks\n",
    "permalink: /binarysearch\n",
    "--- "
   ]
  },
  {
   "cell_type": "markdown",
   "metadata": {},
   "source": [
    "# Popcorn Hack #1\n",
    "Which of the following conditions must be met in order for the procedure to work as intended? Explain why.\n",
    "\n",
    "C. The values in numList must be in sorted order\n",
    "\n",
    "Since the algorithm is bounded from lowest to highest and then loops from high to low, the values must be in order. \n",
    "\n",
    "# Popcorn hack #2\n",
    "Why of the following statements correctly describes a disadvantage of binary search compared to linear search? Explain why your answer is correct and why the others are wrong. \n",
    "\n",
    "B. Binary search cannot be used on unsorted lists without modifcations\n",
    "\n",
    "Binary search needs to have a sorted array for the splitting system to work. \n",
    "\n",
    "# Popcorn hack #3\n",
    " Code a binary search algo in your notebook that returns index when given an element of the array \n",
    " \n"
   ]
  },
  {
   "cell_type": "code",
   "execution_count": 2,
   "metadata": {},
   "outputs": [
    {
     "name": "stdout",
     "output_type": "stream",
     "text": [
      "4\n"
     ]
    }
   ],
   "source": [
    "def binary_search_char(arr, target):\n",
    "    low, high = 0, len(arr) - 1\n",
    "\n",
    "    while low <= high:\n",
    "        mid = (low + high) // 2\n",
    "\n",
    "        if arr[mid] == target:\n",
    "            return mid  \n",
    "        elif arr[mid] < target:\n",
    "            low = mid + 1 \n",
    "        else:\n",
    "            high = mid - 1  \n",
    "\n",
    "    return -1 \n",
    "\n",
    "\n",
    "letters = ['a', 'b', 'c', 'd', 'e', 'f', 'g']\n",
    "print(binary_search_char(letters, 'e'))  \n",
    "\n"
   ]
  },
  {
   "cell_type": "markdown",
   "metadata": {},
   "source": [
    "# Homework Hack "
   ]
  },
  {
   "cell_type": "code",
   "execution_count": 4,
   "metadata": {},
   "outputs": [
    {
     "name": "stdout",
     "output_type": "stream",
     "text": [
      "First few rows of sorted data:\n",
      "        Product  Price\n",
      "5        Eraser   0.50\n",
      "14  Paper Clips   0.89\n",
      "2        Pencil   0.99\n",
      "9    Glue Stick   1.25\n",
      "1           Pen   1.50\n",
      "Original row count: 15\n",
      "Cleaned row count: 15\n",
      "Price $1.25 was FOUND in the dataset.\n",
      "Price $6.49 was FOUND in the dataset.\n",
      "Price $10.00 was NOT FOUND in the dataset.\n"
     ]
    }
   ],
   "source": [
    "import pandas as pd\n",
    "\n",
    "# Load the dataset\n",
    "data = pd.read_csv(\"school_supplies.csv\")\n",
    "\n",
    "# Drop rows with missing values\n",
    "data_cleaned = data.dropna()\n",
    "\n",
    "# Sort the data by 'Price'\n",
    "data_sorted = data_cleaned.sort_values(by=\"Price\")\n",
    "\n",
    "# Extract sorted prices as a list\n",
    "price_list = data_sorted[\"Price\"].tolist()\n",
    "\n",
    "# Preview the sorted data\n",
    "print(\"First few rows of sorted data:\")\n",
    "print(data_sorted.head())\n",
    "print(\"Original row count:\", len(data))\n",
    "print(\"Cleaned row count:\", len(data_cleaned))\n",
    "\n",
    "def binary_search(arr, target):\n",
    "    left = 0\n",
    "    right = len(arr) - 1\n",
    "    \n",
    "    while left <= right:\n",
    "        mid = (left + right) // 2\n",
    "        if arr[mid] == target:\n",
    "            return True\n",
    "        elif arr[mid] < target:\n",
    "            left = mid + 1\n",
    "        else:\n",
    "            right = mid - 1\n",
    "            \n",
    "    return False\n",
    "\n",
    "search_prices = [1.25, 6.49, 10.00]\n",
    "\n",
    "for price in search_prices:\n",
    "    found = binary_search(price_list, price)\n",
    "    if found:\n",
    "        print(f\"Price ${price:.2f} was FOUND in the dataset.\")\n",
    "    else:\n",
    "        print(f\"Price ${price:.2f} was NOT FOUND in the dataset.\")\n"
   ]
  },
  {
   "cell_type": "markdown",
   "metadata": {},
   "source": [
    "The file with school supplies was loaded, and rows with missing values were removed. The data was sorted by price, and a list of specific prices was searched. The search function checked if those prices were found and displayed the results."
   ]
  }
 ],
 "metadata": {
  "kernelspec": {
   "display_name": "venv",
   "language": "python",
   "name": "python3"
  },
  "language_info": {
   "codemirror_mode": {
    "name": "ipython",
    "version": 3
   },
   "file_extension": ".py",
   "mimetype": "text/x-python",
   "name": "python",
   "nbconvert_exporter": "python",
   "pygments_lexer": "ipython3",
   "version": "3.12.3"
  }
 },
 "nbformat": 4,
 "nbformat_minor": 2
}
