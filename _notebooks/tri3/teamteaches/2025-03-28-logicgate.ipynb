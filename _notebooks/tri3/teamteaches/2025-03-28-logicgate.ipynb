{
 "cells": [
  {
   "cell_type": "markdown",
   "id": "dc364090",
   "metadata": {},
   "source": [
    "---\n",
    "layout: post\n",
    "title: Logic Gates \n",
    "description: Popcorn Hacks and Homework Hacks\n",
    "permalink: /logicgate\n",
    "--- "
   ]
  },
  {
   "cell_type": "markdown",
   "id": "518a3872",
   "metadata": {},
   "source": [
    "## Popcorn Hack #1\n",
    "Traffic lights use logic gates to control when lights change based on sensor inputs. For example, an AND gate might require both a car to be present and no pedestrians crossing to turn the light green. An OR gate could trigger a red light if either a car is detected or a pedestrian presses a button. These logic gates help traffic lights make smart decisions automatically.\n",
    "\n",
    "## Popcorn Hack #2\n",
    "A. (X AND Y) OR Z \n",
    "\n",
    "## Homework"
   ]
  },
  {
   "cell_type": "code",
   "execution_count": 1,
   "id": "c7496c9a",
   "metadata": {},
   "outputs": [
    {
     "name": "stdout",
     "output_type": "stream",
     "text": [
      "1\n",
      "0\n",
      "0\n",
      "0\n"
     ]
    }
   ],
   "source": [
    "def secure_entry_system(keycard, pin, voice_auth):\n",
    "    def AND(a, b, c):\n",
    "        return a & b & c  # AND logic for three inputs\n",
    "\n",
    "    return AND(keycard, pin, voice_auth)\n",
    "\n",
    "\n",
    "print(secure_entry_system(1, 1, 1)) # 1: access granted\n",
    "print(secure_entry_system(1, 1, 0))  # 0: access denied\n",
    "print(secure_entry_system(0, 1, 1))  # 0: access denied\n",
    "print(secure_entry_system(1, 0, 1))  # 0: access denied\n"
   ]
  }
 ],
 "metadata": {
  "kernelspec": {
   "display_name": "venv",
   "language": "python",
   "name": "python3"
  },
  "language_info": {
   "codemirror_mode": {
    "name": "ipython",
    "version": 3
   },
   "file_extension": ".py",
   "mimetype": "text/x-python",
   "name": "python",
   "nbconvert_exporter": "python",
   "pygments_lexer": "ipython3",
   "version": "3.12.3"
  }
 },
 "nbformat": 4,
 "nbformat_minor": 5
}
