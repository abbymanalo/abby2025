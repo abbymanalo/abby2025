{
 "cells": [
  {
   "cell_type": "markdown",
   "metadata": {},
   "source": [
    "---\n",
    "layout: post\n",
    "title:  Legal and Ethical Concerns of Computers\n",
    "description: Popcorn Hacks and Homework Hacks\n",
    "permalink: /legalandethical\n",
    "--- "
   ]
  },
  {
   "cell_type": "markdown",
   "metadata": {},
   "source": [
    "# Popcorn Hacks\n",
    "Use flashcards to study and memorize key terms and their definitions \n"
   ]
  },
  {
   "cell_type": "markdown",
   "metadata": {},
   "source": [
    "## Popcorn hack #1\n",
    "Ways to protect intellectual property\n",
    "- Copyright\n",
    "- Watermarks\n",
    "- Trademarks\n",
    "- Trade Secrets \n",
    "- Patents \n",
    "- Liscensing \n",
    "\n",
    "## Popcorn Hack #2 \n",
    "Define an MIT license\n",
    "- A license with code that allows other people to use, copy, merge, modify, publish code. \n",
    "\n",
    "## Popcorn Hack #3\n",
    "Define a Creative Copyright Common License \n",
    "-  public copyright that a creator uses when they want to give others the right to use their work\n",
    "\n",
    "## Popcorn Hack 4\n",
    "Discuss ways to prevent copuright infringmenet \n",
    "- check the copyright on any online source used\n",
    "- cite any sources used \n",
    "\n",
    "\n"
   ]
  },
  {
   "cell_type": "markdown",
   "metadata": {},
   "source": [
    "# Homework Hack \n",
    "Choose a license from the list (MIT or Apache)\n",
    "- explain choice, addlicense to repo, define project, add license to pilot city repo and has to be different from chosen one from repo "
   ]
  }
 ],
 "metadata": {
  "language_info": {
   "name": "python"
  }
 },
 "nbformat": 4,
 "nbformat_minor": 2
}
