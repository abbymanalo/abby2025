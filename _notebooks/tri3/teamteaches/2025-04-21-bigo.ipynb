{
 "cells": [
  {
   "cell_type": "markdown",
   "id": "cbfb627e",
   "metadata": {},
   "source": [
    "---\n",
    "layout: post\n",
    "title:  Big O Notation \n",
    "description: Popcorn Hacks and Homework Hacks\n",
    "permalink: /bigo\n",
    "--- "
   ]
  },
  {
   "cell_type": "markdown",
   "id": "ebe6f4c4",
   "metadata": {},
   "source": [
    "# Popcorn Hack #1"
   ]
  },
  {
   "cell_type": "code",
   "execution_count": 2,
   "id": "64caa27c",
   "metadata": {},
   "outputs": [
    {
     "name": "stdout",
     "output_type": "stream",
     "text": [
      "3\n"
     ]
    }
   ],
   "source": [
    "# Constant Time \n",
    "arr = [1, 2, 3, 4, 5]\n",
    "print(arr[2])"
   ]
  },
  {
   "cell_type": "code",
   "execution_count": 5,
   "id": "21026580",
   "metadata": {},
   "outputs": [
    {
     "name": "stdout",
     "output_type": "stream",
     "text": [
      "3\n"
     ]
    }
   ],
   "source": [
    "# Linear Time\n",
    "arr = [1, 2, 3, 4, 5]\n",
    "for i in range(len(arr)):\n",
    "    if i == 2:\n",
    "        print(arr[i])\n",
    "        break"
   ]
  },
  {
   "cell_type": "markdown",
   "id": "7b4e39c1",
   "metadata": {},
   "source": [
    "# Popcorn Hack #2"
   ]
  },
  {
   "cell_type": "code",
   "execution_count": 6,
   "id": "45092633",
   "metadata": {},
   "outputs": [
    {
     "name": "stdout",
     "output_type": "stream",
     "text": [
      "(1, 2)\n",
      "(1, 3)\n",
      "(2, 3)\n"
     ]
    }
   ],
   "source": [
    "arr =  [1, 2, 3]\n",
    "\n",
    "def print_all_pairs(arr):\n",
    "    for i in range(len(arr)):\n",
    "        for j in range(i + 1, len(arr)):\n",
    "            print(f\"({arr[i]}, {arr[j]})\")\n",
    "\n",
    "print_all_pairs(arr)\n"
   ]
  },
  {
   "cell_type": "markdown",
   "id": "f7df373e",
   "metadata": {},
   "source": [
    "Explaination: \n",
    "It prints all the pairs in the array for i in the range"
   ]
  },
  {
   "cell_type": "markdown",
   "id": "f571da14",
   "metadata": {},
   "source": [
    "# Popcorn Hack #3\n",
    "- B. Factorial Time - the time would grow very fast\n",
    "- C. Quadratic Time"
   ]
  },
  {
   "cell_type": "markdown",
   "id": "03b2e9bc",
   "metadata": {},
   "source": [
    "# Homework"
   ]
  },
  {
   "cell_type": "code",
   "execution_count": 9,
   "id": "1ea37ca3",
   "metadata": {},
   "outputs": [
    {
     "name": "stdout",
     "output_type": "stream",
     "text": [
      "Constant:\n",
      "5\n",
      "\n",
      "Linear:\n",
      "5\n",
      "10\n",
      "15\n",
      "20\n",
      "25\n",
      "\n",
      "Quadratic:\n",
      "(5, 5)\n",
      "(5, 10)\n",
      "(5, 15)\n",
      "(5, 20)\n",
      "(5, 25)\n",
      "(10, 5)\n",
      "(10, 10)\n",
      "(10, 15)\n",
      "(10, 20)\n",
      "(10, 25)\n",
      "(15, 5)\n",
      "(15, 10)\n",
      "(15, 15)\n",
      "(15, 20)\n",
      "(15, 25)\n",
      "(20, 5)\n",
      "(20, 10)\n",
      "(20, 15)\n",
      "(20, 20)\n",
      "(20, 25)\n",
      "(25, 5)\n",
      "(25, 10)\n",
      "(25, 15)\n",
      "(25, 20)\n",
      "(25, 25)\n"
     ]
    }
   ],
   "source": [
    "arr = [5, 10, 15, 20, 25]\n",
    "\n",
    "def perform_operation(arr, complexity):\n",
    "    if complexity == \"constant\":\n",
    "        # O(1): Return the first item\n",
    "        return arr[0] if arr else None\n",
    "\n",
    "    elif complexity == \"linear\":\n",
    "        # O(n): Print all items\n",
    "        for item in arr:\n",
    "            print(item)\n",
    "\n",
    "    elif complexity == \"quadratic\":\n",
    "        # O(n^2): Print all pairs\n",
    "        for i in range(len(arr)):\n",
    "            for j in range(len(arr)):\n",
    "                print(f\"({arr[i]}, {arr[j]})\")\n",
    "\n",
    "    else:\n",
    "        print(\"Unsupported time complexity\")\n",
    "\n",
    "\n",
    "print(\"Constant:\")\n",
    "print(perform_operation(arr, \"constant\"))\n",
    "\n",
    "print(\"\\nLinear:\")\n",
    "perform_operation(arr, \"linear\")\n",
    "\n",
    "print(\"\\nQuadratic:\")\n",
    "perform_operation(arr, \"quadratic\")\n"
   ]
  }
 ],
 "metadata": {
  "kernelspec": {
   "display_name": "venv",
   "language": "python",
   "name": "python3"
  },
  "language_info": {
   "codemirror_mode": {
    "name": "ipython",
    "version": 3
   },
   "file_extension": ".py",
   "mimetype": "text/x-python",
   "name": "python",
   "nbconvert_exporter": "python",
   "pygments_lexer": "ipython3",
   "version": "3.12.3"
  }
 },
 "nbformat": 4,
 "nbformat_minor": 5
}
