{
 "cells": [
  {
   "cell_type": "markdown",
   "id": "9b1dedfc",
   "metadata": {},
   "source": [
    "---\n",
    "layout: post\n",
    "title:  Images, Base64, Color Codes \n",
    "description: Popcorn Hacks and Homework Hacks\n",
    "permalink: /base64\n",
    "--- "
   ]
  },
  {
   "cell_type": "markdown",
   "id": "a606a7b5",
   "metadata": {},
   "source": [
    "# Images\n",
    "\n",
    "## Popcorn hack #1\n",
    "Use alpha transparency for complex logo\n",
    "\n",
    "## Popcorn hack #2\n",
    "PNG\n"
   ]
  },
  {
   "cell_type": "markdown",
   "id": "e03286db",
   "metadata": {},
   "source": [
    "# Base 64\n",
    "\n",
    "## Popcorn hack #1\n",
    "Uses more resources because it increases data size"
   ]
  },
  {
   "cell_type": "markdown",
   "id": "3f6b4241",
   "metadata": {},
   "source": [
    "# Homework\n",
    "Color\n",
    "- Hex color codes are a 6-digit code that starts with # and includes numbers (0-9) and letters (A-F)\n",
    "- #800080 – Purple, #FFA500 – Orange, #008080 – Teal\n",
    "\n",
    "Base 64\n",
    "- Base64 encoding is a way to convert binary data into a text format that can be safely transmitted. It makes the data compatible with text-based systems by turning it into a series of readable characters.\n",
    "- It converts binary data (such as files or images) into a text format that uses only readable characters (A-Z, a-z, 0-9, +, /), making it safe to transmit through text-based systems.\n",
    "- If you're using small icons, like a shopping cart or heart icon, instead of loading them from separate image files, you can embed them directly into your HTML or CSS with Base64.\n"
   ]
  },
  {
   "cell_type": "markdown",
   "id": "3a9130b1",
   "metadata": {},
   "source": [
    "<img src=\"data:image/png;base64,iVBORw0KGgoAAAANSUhEUgAAAAUA...\" alt=\"image\">\n"
   ]
  }
 ],
 "metadata": {
  "language_info": {
   "name": "python"
  }
 },
 "nbformat": 4,
 "nbformat_minor": 5
}
