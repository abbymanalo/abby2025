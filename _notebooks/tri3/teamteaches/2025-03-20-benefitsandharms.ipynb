{
 "cells": [
  {
   "cell_type": "raw",
   "metadata": {
    "vscode": {
     "languageId": "raw"
    }
   },
   "source": [
    "---\n",
    "layout: post\n",
    "title: Benfits and Harms of Technology\n",
    "description: Popcorn Hacks and Homework Hacks\n",
    "permalink: /technology_benefits_harms\n",
    "--- "
   ]
  },
  {
   "cell_type": "markdown",
   "metadata": {},
   "source": [
    "# Popcorn Hacks"
   ]
  },
  {
   "cell_type": "markdown",
   "metadata": {},
   "source": [
    "### Popcorn Hack #1: How do technological innovations impact society in both positive and negative ways? Provide an example. "
   ]
  },
  {
   "cell_type": "markdown",
   "metadata": {},
   "source": [
    "Positive Impact of Technology: Improved Communication\n",
    "\n",
    "- improved communication\n",
    "- people can communicate faster \n",
    "- people can communicate with each other live across countries \n",
    "- examples: Facebook, Instagram, Messenger, IMessage"
   ]
  },
  {
   "cell_type": "markdown",
   "metadata": {},
   "source": [
    "Negative Impact of Technology:  Privacy Concerns \n",
    "\n",
    "- hackers that leak and expose personal information like passwords and private information like social security, credit card information, etc"
   ]
  },
  {
   "cell_type": "markdown",
   "metadata": {},
   "source": [
    "### Popcorn Hack #2: What is the meaning of negative effects of technology, and how can we use responsible programming to avoid and reduce these unintended harmful impacts"
   ]
  },
  {
   "cell_type": "markdown",
   "metadata": {},
   "source": [
    "Define Negative Effects:\n",
    "\n",
    "Negative effects of technlogy are effects from the advancement of technology that harm society. We can use responsible programming to avoid and reduce unintended harmful impacts by "
   ]
  },
  {
   "cell_type": "markdown",
   "metadata": {},
   "source": [
    "### Popcorn Hack #3: Why is it important to understand the unintended consequences of technology, especially dopamine-driven technology? "
   ]
  },
  {
   "cell_type": "markdown",
   "metadata": {},
   "source": [
    "It's important to understand the unintended consequences of technology so that we can understand how technology harms us and prevent the consequences from worsening. By understanding how dopamine-driven technology is harmful, we can move towards being more independent from that kind of technology. "
   ]
  },
  {
   "cell_type": "markdown",
   "metadata": {},
   "source": [
    "# Homework Hacks"
   ]
  },
  {
   "cell_type": "markdown",
   "metadata": {},
   "source": [
    "### Homework Hack #1\n",
    "\n",
    "- AI Technology: Self Driving Cars\n",
    "- Original Use: improve transportation by reducing human error, increasing road safety, and providing mobility for those who cannot drive\n",
    "- New Use: Student Driver Lessons where the car can guide student without the need to schedule an appointment with busy human instructors. The AI can immediately take control of the car if needed, making sure that the student is safe at all times. This provides an educational function for self-driving cars, making it more productive to society.\n",
    "- Impact: Benefits student with safe enviornment to learn and personalized lessons. Risks could include over dependence on AI, where student may not feel confident to drive on their own or there could technological errors where the AI can't take control of the car in the instance that the student puts themselves in an unsafe situation "
   ]
  },
  {
   "cell_type": "markdown",
   "metadata": {},
   "source": [
    "### Homework Hack #2: Ethical AI Coding Challenge\n",
    "\n",
    "- Problem: Misinformation \n",
    "- Risk: False information can manipulate public opinion, spread conspiracy theories, and harm trust in news sources\n",
    "- Solution 1: different AI Tools that flag and take down misinformation on media\n",
    "- Solution 2: human oversight to approve AI media to make sure that no misinformation is being spread\n",
    "- Reflection: Misinformation spreads fast online, and AI can make it worse if it's not used right. Ethical AI development helps make sure technology shares accurate and trustworthy information. By focusing on fairness and transparency, AI can help stop the spread of false info. This way, AI can be a tool that helps people, not misleads them."
   ]
  },
  {
   "cell_type": "markdown",
   "metadata": {},
   "source": [
    "### Homework Hack #3\n",
    "\n",
    "Steps to Complete\n",
    "Find an Example – Research an AI-related news story where technology had unintended effects.\n",
    "Summarize What Happened – Explain the AI’s purpose and the issue it caused.\n",
    "Evaluate the Response – Did companies or governments take action to fix the issue?\n",
    "Propose a Preventative Measure – How could developers have avoided this problem?\n",
    "\n",
    "- Example: Amazon's AI hiring tool from 2018: Amazon developed an AI system to help screen resumes and recommend candidates for job openings\n",
    "- Summary: Amazon's AI tool was meant to speed up hiring by analyzing resumes and recommending top candidates. However, it turned out to be biased against women. The system was trained on resumes from the last 10 years, mostly submitted by men, so it ended up favoring male candidates and was less likely to recommend women.\n",
    "- Evaluate: Once Amazon noticed the problem, they stopped using the AI tool. They admitted the system was biased and promised to improve their hiring practices, but didn’t say exactly how they would fix or replace the AI right away.\n",
    "- Preventative Measure: Developers could made sure the AI considered any forms of bias when hiring\n"
   ]
  }
 ],
 "metadata": {
  "language_info": {
   "name": "python"
  }
 },
 "nbformat": 4,
 "nbformat_minor": 2
}
