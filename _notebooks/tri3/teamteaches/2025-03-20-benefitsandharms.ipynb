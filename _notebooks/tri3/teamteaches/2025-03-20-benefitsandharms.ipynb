{
 "cells": [
  {
   "cell_type": "raw",
   "metadata": {
    "vscode": {
     "languageId": "raw"
    }
   },
   "source": [
    "---\n",
    "layout: post\n",
    "title: Benfits and Harms of Technology\n",
    "description: Popcorn Hacks and Homework Hacks\n",
    "permalink: /technology_benefits_harms\n",
    "--- "
   ]
  },
  {
   "cell_type": "markdown",
   "metadata": {},
   "source": [
    "# Popcorn Hacks"
   ]
  },
  {
   "cell_type": "markdown",
   "metadata": {},
   "source": [
    "### Popcorn Hack #1: How do technological innovations impact society in both positive and negative ways? Provide an example. "
   ]
  },
  {
   "cell_type": "markdown",
   "metadata": {},
   "source": [
    "Positive Impact of Technology: Improved Communication\n",
    "\n",
    "- improved communication\n",
    "- people can communicate faster \n",
    "- people can communicate with each other live across countries \n",
    "- examples: Facebook, Instagram, Messenger, IMessage"
   ]
  },
  {
   "cell_type": "markdown",
   "metadata": {},
   "source": [
    "Negative Impact of Technology:  Privacy Concerns \n",
    "\n",
    "- hackers that leak and expose personal information like passwords and private information like social security, credit card information, etc"
   ]
  },
  {
   "cell_type": "markdown",
   "metadata": {},
   "source": [
    "### Popcorn Hack #2: What is the meaning of negative effects of technology, and how can we use responsible programming to avoid and reduce these unintended harmful impacts"
   ]
  },
  {
   "cell_type": "markdown",
   "metadata": {},
   "source": [
    "Define Negative Effects:\n",
    "\n",
    "Negative effects of technlogy are effects from the advancement of technology that harm society. We can use responsible programming to avoid and reduce unintended harmful impacts by "
   ]
  },
  {
   "cell_type": "markdown",
   "metadata": {},
   "source": [
    "### Popcorn Hack #3: Why is it important to understand the unintended consequences of technology, especially dopamine-driven technology? "
   ]
  },
  {
   "cell_type": "markdown",
   "metadata": {},
   "source": [
    "It's important to understand the unintended consequences of technology so that we can understand how technology harms us and prevent the consequences from worsening. By understanding how dopamine-driven technology is harmful, we can move towards being more independent from that kind of technology. "
   ]
  },
  {
   "cell_type": "markdown",
   "metadata": {},
   "source": [
    "# Homework Hacks"
   ]
  }
 ],
 "metadata": {
  "language_info": {
   "name": "python"
  }
 },
 "nbformat": 4,
 "nbformat_minor": 2
}
