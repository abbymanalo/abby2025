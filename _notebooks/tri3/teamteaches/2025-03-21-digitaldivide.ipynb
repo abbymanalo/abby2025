{
 "cells": [
  {
   "cell_type": "markdown",
   "metadata": {
    "vscode": {
     "languageId": "raw"
    }
   },
   "source": [
    "---\n",
    "layout: post\n",
    "title: Digital Divide\n",
    "description: Popcorn Hacks and Homework Hacks\n",
    "permalink: /digital_divide\n",
    "--- "
   ]
  }
 ],
 "metadata": {
  "language_info": {
   "name": "python"
  }
 },
 "nbformat": 4,
 "nbformat_minor": 2
}
