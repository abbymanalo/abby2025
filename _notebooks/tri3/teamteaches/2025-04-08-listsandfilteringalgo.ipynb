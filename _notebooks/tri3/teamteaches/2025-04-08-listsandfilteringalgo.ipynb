{
 "cells": [
  {
   "cell_type": "markdown",
   "id": "a04515e3",
   "metadata": {},
   "source": [
    "---\n",
    "layout: post\n",
    "title:  Lists and Filtering Algorithms\n",
    "description: Popcorn Hacks and Homework Hacks\n",
    "permalink: /lists-and-filter\n",
    "--- "
   ]
  },
  {
   "cell_type": "markdown",
   "id": "de762003",
   "metadata": {},
   "source": [
    "# Popcorn hack #1"
   ]
  },
  {
   "cell_type": "code",
   "execution_count": 3,
   "id": "b35428d5",
   "metadata": {},
   "outputs": [
    {
     "name": "stdout",
     "output_type": "stream",
     "text": [
      "['27 Dresses', 'Captain America: Civil War', 'Twilight', \"She's the Man\", 'Wicked']\n"
     ]
    }
   ],
   "source": [
    "movies = [\"27 Dresses\", \"The Devil Wears Prada\", \"Twilight\", \"She's the Man\"]\n",
    "\n",
    "movies[1] = \"Captain America: Civil War\"\n",
    "\n",
    "movies.append(\"Wicked\")\n",
    "\n",
    "print(movies)\n"
   ]
  },
  {
   "cell_type": "markdown",
   "id": "b3a45d5d",
   "metadata": {},
   "source": [
    "# Popcorn Hack #2"
   ]
  },
  {
   "cell_type": "code",
   "execution_count": 1,
   "id": "fb4e9b9b",
   "metadata": {},
   "outputs": [
    {
     "name": "stdout",
     "output_type": "stream",
     "text": [
      "20\n",
      "34\n",
      "18\n",
      "21\n",
      "19\n"
     ]
    }
   ],
   "source": [
    "numbers = [15, 20, 34, 16, 18, 21, 14, 19]\n",
    "\n",
    "for number in numbers:\n",
    "    if number >= 18:\n",
    "        print(number)"
   ]
  },
  {
   "cell_type": "markdown",
   "id": "810933a7",
   "metadata": {},
   "source": [
    "# Homework "
   ]
  }
 ],
 "metadata": {
  "kernelspec": {
   "display_name": "venv",
   "language": "python",
   "name": "python3"
  },
  "language_info": {
   "codemirror_mode": {
    "name": "ipython",
    "version": 3
   },
   "file_extension": ".py",
   "mimetype": "text/x-python",
   "name": "python",
   "nbconvert_exporter": "python",
   "pygments_lexer": "ipython3",
   "version": "3.12.3"
  }
 },
 "nbformat": 4,
 "nbformat_minor": 5
}
