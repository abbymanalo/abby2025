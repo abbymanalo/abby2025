{
 "cells": [
  {
   "cell_type": "markdown",
   "id": "a04515e3",
   "metadata": {},
   "source": [
    "---\n",
    "layout: post\n",
    "title:  Lists and Filtering Algorithms\n",
    "description: Popcorn Hacks and Homework Hacks\n",
    "permalink: /lists-and-filter\n",
    "--- "
   ]
  },
  {
   "cell_type": "markdown",
   "id": "de762003",
   "metadata": {},
   "source": [
    "# Popcorn hack #1"
   ]
  },
  {
   "cell_type": "code",
   "execution_count": 3,
   "id": "b35428d5",
   "metadata": {},
   "outputs": [
    {
     "name": "stdout",
     "output_type": "stream",
     "text": [
      "['27 Dresses', 'Captain America: Civil War', 'Twilight', \"She's the Man\", 'Wicked']\n"
     ]
    }
   ],
   "source": [
    "movies = [\"27 Dresses\", \"The Devil Wears Prada\", \"Twilight\", \"She's the Man\"]\n",
    "\n",
    "movies[1] = \"Captain America: Civil War\"\n",
    "\n",
    "movies.append(\"Wicked\")\n",
    "\n",
    "print(movies)\n"
   ]
  },
  {
   "cell_type": "markdown",
   "id": "b3a45d5d",
   "metadata": {},
   "source": [
    "# Popcorn Hack #2"
   ]
  },
  {
   "cell_type": "code",
   "execution_count": 1,
   "id": "fb4e9b9b",
   "metadata": {},
   "outputs": [
    {
     "name": "stdout",
     "output_type": "stream",
     "text": [
      "20\n",
      "34\n",
      "18\n",
      "21\n",
      "19\n"
     ]
    }
   ],
   "source": [
    "numbers = [15, 20, 34, 16, 18, 21, 14, 19]\n",
    "\n",
    "for number in numbers:\n",
    "    if number >= 18:\n",
    "        print(number)"
   ]
  },
  {
   "cell_type": "markdown",
   "id": "810933a7",
   "metadata": {},
   "source": [
    "# Homework \n",
    "## Hack #1"
   ]
  },
  {
   "cell_type": "markdown",
   "id": "668ddb1f",
   "metadata": {},
   "source": [
    "## Hack #2"
   ]
  },
  {
   "cell_type": "code",
   "execution_count": 1,
   "id": "c9d8e9bb",
   "metadata": {},
   "outputs": [
    {
     "name": "stdout",
     "output_type": "stream",
     "text": [
      "Original list (1 to 30):\n",
      "[1, 2, 3, 4, 5, 6, 7, 8, 9, 10, 11, 12, 13, 14, 15, 16, 17, 18, 19, 20, 21, 22, 23, 24, 25, 26, 27, 28, 29, 30]\n",
      "\n",
      "Filtered list (Divisible by 3 but not by 5):\n",
      "[3, 6, 9, 12, 18, 21, 24, 27]\n"
     ]
    }
   ],
   "source": [
    "# Initialize a list of numbers from 1 to 30\n",
    "original_list = list(range(1, 31))\n",
    "\n",
    "# Filter: Numbers divisible by 3 but NOT divisible by 5\n",
    "filtered_list = [num for num in original_list if num % 3 == 0 and num % 5 != 0]\n",
    "\n",
    "# Print the original list\n",
    "print(\"Original list (1 to 30):\")\n",
    "print(original_list)\n",
    "\n",
    "# Print the filtered list\n",
    "print(\"\\nFiltered list (Divisible by 3 but not by 5):\")\n",
    "print(filtered_list)\n"
   ]
  },
  {
   "cell_type": "markdown",
   "id": "224fbdeb",
   "metadata": {},
   "source": [
    "## Hack #3"
   ]
  },
  {
   "cell_type": "code",
   "execution_count": null,
   "id": "2c119f7b",
   "metadata": {},
   "outputs": [],
   "source": [
    "import pandas as pd\n",
    "\n",
    "def filter_spotify_data(csv_path):\n",
    "    # Load the CSV file\n",
    "    df = pd.read_csv(csv_path)\n",
    "\n",
    "    # Convert 'streams' column to numeric if it's not already (just in case)\n",
    "    df['streams'] = pd.to_numeric(df['streams'], errors='coerce')\n",
    "\n",
    "    # Filter rows with over 10 million streams\n",
    "    filtered_df = df[df['streams'] > 10_000_000]\n",
    "\n",
    "    # Display results\n",
    "    print(\"Songs with over 10 million streams:\\n\")\n",
    "    print(filtered_df[['track_name', 'artist(s)_name', 'streams']])\n",
    "\n",
    "    return filtered_df\n",
    "\n",
    "# Example usage:\n",
    "filtered_songs = filter_spotify_data('spotify_global_2024.csv')\n"
   ]
  }
 ],
 "metadata": {
  "kernelspec": {
   "display_name": "venv",
   "language": "python",
   "name": "python3"
  },
  "language_info": {
   "codemirror_mode": {
    "name": "ipython",
    "version": 3
   },
   "file_extension": ".py",
   "mimetype": "text/x-python",
   "name": "python",
   "nbconvert_exporter": "python",
   "pygments_lexer": "ipython3",
   "version": "3.12.3"
  }
 },
 "nbformat": 4,
 "nbformat_minor": 5
}
