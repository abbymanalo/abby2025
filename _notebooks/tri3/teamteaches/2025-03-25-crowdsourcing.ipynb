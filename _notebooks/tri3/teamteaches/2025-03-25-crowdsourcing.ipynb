{
 "cells": [
  {
   "cell_type": "markdown",
   "metadata": {
    "vscode": {
     "languageId": "plaintext"
    }
   },
   "source": [
    "---\n",
    "layout: post\n",
    "title: Crowdsourcing\n",
    "description: Popcorn and Homework Hacks\n",
    "permalink: /crowdsourcing\n",
    "--- "
   ]
  },
  {
   "cell_type": "markdown",
   "metadata": {},
   "source": [
    "## Rating Mango Intro\n",
    "10\n",
    "\n",
    "# Poporn Hack #3\n",
    "Find an example of crowdsourcing, and briefly explain how it uses crowdsourcing to achieve its goal.\n",
    "\n",
    "Feedback popups on apps where they ask for the user to rate their application 1-5 stars and submit a review. This allows the app developers to see what the users like and don't like and get an idea on what to change on the app. \n",
    "\n",
    "# Homework Hack: Crowdsource a Playlist \n",
    "Add 2 pop songs to blog for spotify playlist (submitted on form)\n",
    "How would crowdsourcing improve or harm the playlist?\n",
    "\n",
    "- [Latch by Sam Smith](https://open.spotify.com/track/1DunhgeZSEgWiIYbHqXl0c?si=1df59659bc1e4828)\n",
    "- [Mirrors by Justin Timberlake](https://open.spotify.com/track/4rHZZAmHpZrA3iH5zx8frV?si=ab8757dd6a914bec)\n",
    "\n",
    "Crowdsourcing could improve the playlist by representing every student's songs that they like and by adding diversity in songs. It could harm the playlist by not being as cohesive. "
   ]
  }
 ],
 "metadata": {
  "language_info": {
   "name": "python"
  }
 },
 "nbformat": 4,
 "nbformat_minor": 2
}
