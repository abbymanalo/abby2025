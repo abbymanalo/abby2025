{
 "cells": [
  {
   "cell_type": "raw",
   "metadata": {
    "vscode": {
     "languageId": "raw"
    }
   },
   "source": [
    "---\n",
    "layout: post\n",
    "title: Sprint 1\n",
    "description: Plans v. Acomplished for Sprint 1\n",
    "type: issues \n",
    "permalink: /sprint1plans/\n",
    "--- "
   ]
  },
  {
   "cell_type": "markdown",
   "metadata": {},
   "source": [
    "# Plans for Sprint 1\n",
    "My plans for Sprint 1 are first to make sure all my tools and equipments to work and to complete all the hacks assigned to us. \n",
    "# Acomplished\n",
    "- changed the theme of my page, altered theme colors\n",
    "- added image to my index.md\n",
    "- printed emoji in a jupyter notebook\n",
    "- created submenu with links\n",
    "- created a My Journey Page and an About Me page\n",
    "- created personal interest blogs\n",
    "- created jupyter notebook for plans vs acomplishments\n",
    "- added utterances to blog, some posts don't automatically have them\n",
    "- completed work for Javascript Project Playground\n",
    "- filled out rubric\n",
    "- added missing hacks \n",
    "- added simple extra game for fun\n",
    "# Challenges\n",
    "- Creating a jupyter nb was a small challenge I had to overcome: After reaching out to a few peers, I figured out how to create a nb file correctly, using the date and making it a post. Then I was able to have an actual notebook that I could create a button form home that links to it"
   ]
  },
  {
   "cell_type": "raw",
   "metadata": {
    "vscode": {
     "languageId": "raw"
    }
   },
   "source": [
    "\n",
    "<script src=\"https://utteranc.es/client.js\"\n",
    "        repo=\"abbymanalo/abby2025\"\n",
    "        issue-term=\"pathname\"\n",
    "        theme=\"github-light\"\n",
    "        crossorigin=\"anonymous\"\n",
    "        async>\n",
    "</script>"
   ]
  },
  {
   "cell_type": "markdown",
   "metadata": {},
   "source": [
    "\n",
    "<script src=\"https://utteranc.es/client.js\"\n",
    "        repo=\"abbymanalo/abby2025\"\n",
    "        issue-term=\"pathname\"\n",
    "        theme=\"github-lights\"\n",
    "        crossorigin=\"anonymous\"\n",
    "        async>\n",
    "</script>"
   ]
  }
 ],
 "metadata": {
  "language_info": {
   "name": "python"
  }
 },
 "nbformat": 4,
 "nbformat_minor": 2
}
