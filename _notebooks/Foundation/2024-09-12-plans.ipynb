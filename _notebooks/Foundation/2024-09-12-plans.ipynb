{
 "cells": [
  {
   "cell_type": "raw",
   "metadata": {
    "vscode": {
     "languageId": "raw"
    }
   },
   "source": [
    "---\n",
    "layout: post\n",
    "title: Plans\n",
    "description: Plans for the Sprints vs Acomplished \n",
    "type: issues \n",
    "permalink: /plans/\n",
    "--- "
   ]
  },
  {
   "cell_type": "markdown",
   "metadata": {},
   "source": [
    "# Plans for Sprint 1\n",
    "My plans for Sprint 1 are first to make sure all my tools and equipments to work and to complete all the hacks assigned to us. \n",
    "# Acomplished\n",
    "- changed the theme of my page, altered theme colors\n",
    "- added image to my index.md\n",
    "- printed emoji in a jupyter notebook\n",
    "- created submenu with links\n",
    "- created a My Journey Page and an About Me page\n",
    "- created personal interest blogs\n",
    "- created jupyter notebook for plans vs acomplishments\n",
    "- added utterances to blog, some posts don't automatically have them"
   ]
  },
  {
   "cell_type": "raw",
   "metadata": {},
   "source": [
    "\n",
    "<script src=\"https://utteranc.es/client.js\"\n",
    "        repo=\"abbymanalo/abby2025\"\n",
    "        issue-term=\"pathname\"\n",
    "        theme=\"github-dark\"\n",
    "        crossorigin=\"anonymous\"\n",
    "        async>\n",
    "</script>"
   ]
  },
  {
   "cell_type": "markdown",
   "metadata": {},
   "source": [
    "\n",
    "<script src=\"https://utteranc.es/client.js\"\n",
    "        repo=\"abbymanalo/abby2025\"\n",
    "        issue-term=\"pathname\"\n",
    "        theme=\"github-lights\"\n",
    "        crossorigin=\"anonymous\"\n",
    "        async>\n",
    "</script>"
   ]
  }
 ],
 "metadata": {
  "language_info": {
   "name": "python"
  }
 },
 "nbformat": 4,
 "nbformat_minor": 2
}
