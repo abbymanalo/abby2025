{
 "cells": [
  {
   "cell_type": "raw",
   "metadata": {
    "vscode": {
     "languageId": "raw"
    }
   },
   "source": [
    "---\n",
    "layout: post\n",
    "title: Plans\n",
    "description: Plans for the Sprints vs Acomplished \n",
    "type: issues \n",
    "permalink: /plans/\n",
    "--- "
   ]
  },
  {
   "cell_type": "markdown",
   "metadata": {},
   "source": [
    "# Plans Homepage\n",
    "You can find my sprint reflections here. "
   ]
  },
  {
   "cell_type": "markdown",
   "metadata": {},
   "source": [
    "## [Sprint 1]({{site.baseurl}}/sprint1plans/)\n",
    "## [Sprint 2]({{site.baseurl}}/sprint2plans/)"
   ]
  },
  {
   "cell_type": "markdown",
   "metadata": {},
   "source": [
    "\n",
    "<script src=\"https://utteranc.es/client.js\"\n",
    "        repo=\"abbymanalo/abby2025\"\n",
    "        issue-term=\"pathname\"\n",
    "        theme=\"github-lights\"\n",
    "        crossorigin=\"anonymous\"\n",
    "        async>\n",
    "</script>"
   ]
  }
 ],
 "metadata": {
  "language_info": {
   "name": "python"
  }
 },
 "nbformat": 4,
 "nbformat_minor": 2
}
