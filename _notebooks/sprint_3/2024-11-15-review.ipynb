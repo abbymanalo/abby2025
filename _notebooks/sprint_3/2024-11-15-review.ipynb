{
 "cells": [
  {
   "cell_type": "raw",
   "metadata": {
    "vscode": {
     "languageId": "raw"
    }
   },
   "source": [
    "---\n",
    "layout: post\n",
    "title: Sprint 3 Review\n",
    "description: Reviewing Acomplishments over Sprint 3\n",
    "type: issues \n",
    "permalink: /sprint3plans/\n",
    "--- "
   ]
  },
  {
   "cell_type": "markdown",
   "metadata": {},
   "source": [
    "# Sprint 3 Reflection "
   ]
  },
  {
   "cell_type": "markdown",
   "metadata": {},
   "source": [
    "## [Sprint 3 Review Ticket Issue](https://github.com/abbymanalo/abby2025/issues/9)"
   ]
  },
  {
   "cell_type": "markdown",
   "metadata": {},
   "source": [
    "At the start of the sprint, my team and I created an ideation issue for our room idea. You can find it here. [Issue Link](https://github.com/abbymanalo/portfolio_2025/issues/4)"
   ]
  },
  {
   "cell_type": "markdown",
   "metadata": {},
   "source": [
    "As a superscrum, I helped connect communication from our class to the other class periods. This spreadsheet is an example of getting my class together to show each other our ideas and plans in which I sent out to the other class periods to show progress in the sprint. [Link Here](https://docs.google.com/spreadsheets/d/12Q9cLJXfyT3E_JdiYT8Br4muCmB3WIHUmpLqaORem48/edit?usp=sharing)"
   ]
  },
  {
   "cell_type": "markdown",
   "metadata": {},
   "source": [
    "This is my MCQ Review. [issue](https://github.com/abbymanalo/abby2025/issues/10)"
   ]
  },
  {
   "cell_type": "markdown",
   "metadata": {},
   "source": [
    "For my group's social media, we attempted to create a social media page inspired by the social media BeReal where you can post a picture at randomized times and share it with your friends on the page. This involved a lot of styling and backend, especially in creating a lot of code from scratch. Our biggest challenge was making a persons image be able to be posted and connect to their profile. Overall our idea was good, but as we learned and as we heard from our peers, our idea was very complicated for a project that was not supposed to be going on for a long time. I suspect that if we continued to work on our project for longer, we would have been able to perfect it. "
   ]
  },
  {
   "cell_type": "markdown",
   "metadata": {},
   "source": [
    "I feel that my biggest growth was in creating code from scratch. It's been one of my goals to work on upon the beginning of CSP, since I was in CSSE and was able to code with examples given to me. In this sprint, I did actually start to understand creating variables for divs and creating a container for our page with the help of my teammates. "
   ]
  }
 ],
 "metadata": {
  "language_info": {
   "name": "python"
  }
 },
 "nbformat": 4,
 "nbformat_minor": 2
}
