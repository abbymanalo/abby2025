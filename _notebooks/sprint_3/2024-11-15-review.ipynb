{
 "cells": [
  {
   "cell_type": "raw",
   "metadata": {
    "vscode": {
     "languageId": "raw"
    }
   },
   "source": [
    "---\n",
    "layout: post\n",
    "title: Sprint 3 Review\n",
    "description: Reviewing Acomplishments over Sprint 3\n",
    "type: issues \n",
    "permalink: /sprint3plans/\n",
    "--- "
   ]
  },
  {
   "cell_type": "markdown",
   "metadata": {},
   "source": [
    "# Sprint 3 Reflection "
   ]
  },
  {
   "cell_type": "markdown",
   "metadata": {},
   "source": [
    "## [Sprint 3 Review Ticket Issue](https://github.com/abbymanalo/abby2025/issues/9)"
   ]
  },
  {
   "cell_type": "markdown",
   "metadata": {},
   "source": [
    "At the start of the sprint, my team and I created an ideation issue for our room idea. You can find it here. [Issue Link](https://github.com/abbymanalo/portfolio_2025/issues/4)"
   ]
  },
  {
   "cell_type": "markdown",
   "metadata": {},
   "source": [
    "As a superscrum, I helped connect communication from our class to the other class periods. This spreadsheet is an example of getting my class together to show each other our ideas and plans in which I sent out to the other class periods to show progress in the sprint. [Link Here](https://docs.google.com/spreadsheets/d/12Q9cLJXfyT3E_JdiYT8Br4muCmB3WIHUmpLqaORem48/edit?usp=sharing)"
   ]
  }
 ],
 "metadata": {
  "language_info": {
   "name": "python"
  }
 },
 "nbformat": 4,
 "nbformat_minor": 2
}
