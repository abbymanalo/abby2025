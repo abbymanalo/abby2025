{
 "cells": [
  {
   "cell_type": "code",
   "execution_count": null,
   "metadata": {
    "vscode": {
     "languageId": "plaintext"
    }
   },
   "outputs": [],
   "source": [
    "---\n",
    "layout: post\n",
    "title: Big Idea 4\n",
    "description: Deployment Strategies, Domain Name System (DNS), HTTP and RESTful APIs, Security and Authentication, Performance Optimization, Monitoring and Logging\n",
    "permalink: /big_idea_4/ \n",
    "--- "
   ]
  },
  {
   "cell_type": "markdown",
   "metadata": {},
   "source": [
    "<img src=\"{{ site.baseurl }}/images/deployment_page/AWS_deploy.png\" alt=\"Backend Diagram\">\n"
   ]
  }
 ],
 "metadata": {
  "language_info": {
   "name": "python"
  }
 },
 "nbformat": 4,
 "nbformat_minor": 2
}
