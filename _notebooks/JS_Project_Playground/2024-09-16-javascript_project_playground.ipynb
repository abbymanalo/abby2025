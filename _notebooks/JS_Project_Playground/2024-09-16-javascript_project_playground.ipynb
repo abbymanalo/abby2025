{
 "cells": [
  {
   "cell_type": "code",
   "execution_count": null,
   "metadata": {
    "vscode": {
     "languageId": "plaintext"
    }
   },
   "outputs": [],
   "source": [
    "---\n",
    "layout: post\n",
    "title: Javascript Project Playground\n",
    "description: Games\n",
    "type: issues \n",
    "permalink: /jsprojectplayground/\n",
    "--- "
   ]
  },
  {
   "cell_type": "markdown",
   "metadata": {},
   "source": [
    "Click on the following links to access my JS Playground!\n"
   ]
  }
 ],
 "metadata": {
  "language_info": {
   "name": "python"
  }
 },
 "nbformat": 4,
 "nbformat_minor": 2
}
