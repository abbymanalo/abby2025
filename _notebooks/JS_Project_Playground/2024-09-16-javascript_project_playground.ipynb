{
 "cells": [
  {
   "cell_type": "markdown",
   "metadata": {
    "vscode": {
     "languageId": "yaml"
    }
   },
   "source": [
    "---\n",
    "layout: post\n",
    "title: Javascript Project Playground\n",
    "description: Games\n",
    "type: issues \n",
    "permalink: /jsprojectplayground/\n",
    "--- "
   ]
  },
  {
   "cell_type": "markdown",
   "metadata": {},
   "source": [
    "<div style=\"text-align: center;\">\n",
    "    <h1>Randomize Project</h1>\n",
    "   <button id=\"randomButton\" \n",
    "        style=\"padding: 15px 30px; font-size: 1.2em; cursor: pointer; background-color: #ffd53e; color: white; border: none; border-radius: 5px; transition: background-color 0.3s;\"\n",
    "        onmouseover=\"this.style.backgroundColor='#fdb833'\"\n",
    "        onmouseout=\"this.style.backgroundColor='#ffd53e'\">Click Me!</button>\n",
    "\n",
    "</div>\n",
    "\n",
    "<script>\n",
    "    // List of links\n",
    "    const links = [\n",
    "        'https://abbymanalo.github.io/abby2025/cookieclicker/',\n",
    "        'https://abbymanalo.github.io/abby2025/snakegame/',\n",
    "        'https://abbymanalo.github.io/abby2025/itunesapi/',\n",
    "        'https://abbymanalo.github.io/abby2025/calculator/'\n",
    "    ];\n",
    "\n",
    "    // Random link generator\n",
    "    document.getElementById('randomButton').addEventListener('click', function() {\n",
    "        const randomIndex = Math.floor(Math.random() * links.length);\n",
    "        const randomLink = links[randomIndex];\n",
    "        window.open(randomLink, '_blank'); // Open link in a new tab\n",
    "    });\n",
    "</script>\n"
   ]
  },
  {
   "cell_type": "markdown",
   "metadata": {},
   "source": [
    "\n",
    "<div style=\"text-align: center;\">\n",
    "    <h4>Or you can be boring and click the specific project you're looking for </h4>\n",
    "    <div style=\"display: inline-block;\">\n",
    "        <button style=\"margin: 10px; padding: 10px 20px; font-size: 1em; cursor: pointer; background-color: #9C9990; color: white; border: none; border-radius: 5px; transition: background-color 0.3s;\"\n",
    "                onmouseover=\"this.style.backgroundColor='#6A6262'\"\n",
    "                onmouseout=\"this.style.backgroundColor='#9C9990'\"\n",
    "                onclick=\"window.open('https://abbymanalo.github.io/abby2025/cookieclicker/', '_blank')\">Cookie Clicker</button>\n",
    "        <button style=\"margin: 10px; padding: 10px 20px; font-size: 1em; cursor: pointer; background-color: #9C9990; color: white; border: none; border-radius: 5px; transition: background-color 0.3s;\"\n",
    "                onmouseover=\"this.style.backgroundColor='#6A6262'\"\n",
    "                onmouseout=\"this.style.backgroundColor='#9C9990'\"\n",
    "                onclick=\"window.open('https://abbymanalo.github.io/abby2025/snakegame/', '_blank')\">Snake Game</button>\n",
    "        <button style=\"margin: 10px; padding: 10px 20px; font-size: 1em; cursor: pointer; background-color: #9C9990; color: white; border: none; border-radius: 5px; transition: background-color 0.3s;\"\n",
    "                onmouseover=\"this.style.backgroundColor='#6A6262'\"\n",
    "                onmouseout=\"this.style.backgroundColor='#9C9990'\"\n",
    "                onclick=\"window.open('https://abbymanalo.github.io/abby2025/itunesapi/', '_blank')\">Itunes API</button>\n",
    "        <button style=\"margin: 10px; padding: 10px 20px; font-size: 1em; cursor: pointer; background-color: #9C9990; color: white; border: none; border-radius: 5px; transition: background-color 0.3s;\"\n",
    "                onmouseover=\"this.style.backgroundColor='#6A6262'\"\n",
    "                onmouseout=\"this.style.backgroundColor='#9C9990'\"\n",
    "                onclick=\"window.open('https://abbymanalo.github.io/abby2025/calculator/', '_blank')\">Calculator</button>\n",
    "    </div>\n",
    "</div>\n"
   ]
  }
 ],
 "metadata": {
  "language_info": {
   "name": "python"
  }
 },
 "nbformat": 4,
 "nbformat_minor": 2
}
