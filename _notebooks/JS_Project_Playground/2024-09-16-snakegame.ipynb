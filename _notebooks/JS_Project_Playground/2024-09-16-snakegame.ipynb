{
 "cells": [
  {
   "cell_type": "raw",
   "metadata": {
    "vscode": {
     "languageId": "raw"
    }
   },
   "source": [
    "---\n",
    "layout: post\n",
    "title: Snake Game\n",
    "description: Play the Snake Game! \n",
    "permalink: /snakegame/\n",
    "--- "
   ]
  },
  {
   "cell_type": "markdown",
   "metadata": {},
   "source": [
    "// Game Control\n",
    "const BLOCK = 10;   // size of block rendering\n",
    "let SCREEN = SCREEN_MENU;\n",
    "let snake;\n",
    "let snake_dir;\n",
    "let snake_next_dir;\n",
    "let snake_speed;\n",
    "let food = {x: 0, y: 0};\n",
    "let score;\n",
    "let wall;\n",
    "\n",
    "/* Main Loop for Snake */\n",
    "let mainLoop = function() {\n",
    "    let _x = snake[0].x;\n",
    "    let _y = snake[0].y;\n",
    "    \n",
    "    snake_dir = snake_next_dir;  // read async event key\n",
    "    \n",
    "    // Direction 0 - Up, 1 - Right, 2 - Down, 3 - Left\n",
    "    switch (snake_dir) {\n",
    "        case 0: _y--; break;  // Up\n",
    "        case 1: _x++; break;  // Right\n",
    "        case 2: _y++; break;  // Down\n",
    "        case 3: _x--; break;  // Left\n",
    "    }\n",
    "    \n",
    "    snake.pop();  // Remove the tail\n",
    "    snake.unshift({x: _x, y: _y});  // Add new head\n",
    "\n",
    "    // Repaint canvas\n",
    "    ctx.beginPath();\n",
    "    ctx.fillStyle = \"#ACBDBA\";\n",
    "    ctx.fillRect(0, 0, canvas.width, canvas.height);\n",
    "\n",
    "    // Paint snake\n",
    "    for (let i = 0; i < snake.length; i++) {\n",
    "        activeDot(snake[i].x, snake[i].y);\n",
    "    }\n",
    "\n",
    "    // Paint food\n",
    "    activeDot(food.x, food.y);\n",
    "\n",
    "    // Recursive call after speed delay\n",
    "    setTimeout(mainLoop, snake_speed);\n",
    "};\n",
    "\n",
    "/* Active Dot for Snake and Food */\n",
    "let activeDot = function(x, y) {\n",
    "    ctx.fillStyle = \"#CDDDDD\";  // Snake color\n",
    "    ctx.fillRect(x * BLOCK, y * BLOCK, BLOCK, BLOCK);  // Paint snake parts\n",
    "};\n",
    "\n",
    "/* Add Food to Random Location */\n",
    "let addFood = function() {\n",
    "    food.x = Math.floor(Math.random() * (canvas.width / BLOCK - 1));\n",
    "    food.y = Math.floor(Math.random() * (canvas.height / BLOCK - 1));\n",
    "};\n",
    "\n",
    "/* Initialize New Game */\n",
    "let newGame = function() {\n",
    "    score = 0;\n",
    "    altScore(score);\n",
    "\n",
    "    snake = [];\n",
    "    snake.push({ x: 0, y: 15 });\n",
    "    snake_next_dir = 1;\n",
    "\n",
    "    addFood();\n",
    "    mainLoop();\n",
    "};\n"
   ]
  }
 ],
 "metadata": {
  "language_info": {
   "name": "python"
  }
 },
 "nbformat": 4,
 "nbformat_minor": 2
}
