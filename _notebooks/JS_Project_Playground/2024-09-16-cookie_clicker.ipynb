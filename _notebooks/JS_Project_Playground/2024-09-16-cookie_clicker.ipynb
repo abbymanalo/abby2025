{
 "cells": [
  {
   "cell_type": "raw",
   "metadata": {
    "vscode": {
     "languageId": "raw"
    }
   },
   "source": [
    "---\n",
    "layout: post\n",
    "title: Cookie Clicker \n",
    "description: Play the Cookie Clicker Game!\n",
    "type: issues \n",
    "permalink: /cookieclicker/\n",
    "--- "
   ]
  },
  {
   "cell_type": "raw",
   "metadata": {
    "vscode": {
     "languageId": "raw"
    }
   },
   "source": [
    "\n",
    "<html lang=\"en\">\n",
    "<head>\n",
    "    <meta charset=\"UTF-8\">\n",
    "    <meta name=\"viewport\" content=\"width=device-width, initial-scale=1.0\">\n",
    "    <title>Simple Cookie Clicker Game</title>\n",
    "    <style>\n",
    "        body {\n",
    "            text-align: center;\n",
    "            font-family: Arial, sans-serif;\n",
    "            margin-top: 50px;\n",
    "        }\n",
    "        #cookie {\n",
    "            width: 200px;\n",
    "            cursor: pointer;\n",
    "            border-radius: 50%;\n",
    "        }\n",
    "        #counter {\n",
    "            font-size: 2em;\n",
    "            margin-top: 20px;\n",
    "        }\n",
    "        button {\n",
    "            margin-top: 20px;\n",
    "            padding: 10px 20px;\n",
    "            font-size: 1.2em;\n",
    "        }\n",
    "    </style>\n",
    "</head>\n",
    "<body>\n",
    "\n",
    "    <h1>Cookie Clicker Game</h1>\n",
    "    <img id= \"cookie\" src=\"https://img.freepik.com/free-photo/chocolate-chip-cookies-isolated-white-background-ai-generative_123827-24070.jpg\" alt=\"Cookie\">\n",
    "    <div id=\"counter\">0 Cookies</div>\n",
    "    <button id=\"upgrade\">Upgrade (Cost: 10 Cookies)</button>\n",
    "\n",
    "    <script>\n",
    "        // Game Variables\n",
    "        let cookieCount = 0;\n",
    "        let cookiesPerClick = 1;\n",
    "\n",
    "        const cookie = document.getElementById('cookie');\n",
    "        const counter = document.getElementById('counter');\n",
    "        const upgradeButton = document.getElementById('upgrade');\n",
    "\n",
    "        // Update the cookie counter\n",
    "        function updateCounter() {\n",
    "            counter.innerText = cookieCount + \" Cookies\";\n",
    "        }\n",
    "\n",
    "        // Event listener for cookie click\n",
    "        cookie.addEventListener('click', function() {\n",
    "            cookieCount += cookiesPerClick;\n",
    "            updateCounter();\n",
    "        });\n",
    "\n",
    "        // Upgrade functionality\n",
    "        upgradeButton.addEventListener('click', function() {\n",
    "            if (cookieCount >= 10) {\n",
    "                cookieCount -= 10;\n",
    "                cookiesPerClick++;\n",
    "                updateCounter();\n",
    "                upgradeButton.innerText = \"Upgrade (Cost: \" + cookiesPerClick * 10 + \" Cookies)\";\n",
    "            }\n",
    "        });\n",
    "    </script>\n",
    "\n",
    "</body>\n",
    "</html>\n"
   ]
  }
 ],
 "metadata": {
  "kernelspec": {
   "display_name": "Python 3",
   "language": "python",
   "name": "python3"
  },
  "language_info": {
   "codemirror_mode": {
    "name": "ipython",
    "version": 3
   },
   "file_extension": ".py",
   "mimetype": "text/x-python",
   "name": "python",
   "nbconvert_exporter": "python",
   "pygments_lexer": "ipython3",
   "version": "3.10.12"
  }
 },
 "nbformat": 4,
 "nbformat_minor": 2
}
