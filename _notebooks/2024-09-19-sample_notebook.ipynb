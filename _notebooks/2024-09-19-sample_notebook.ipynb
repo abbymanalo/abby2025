{
 "cells": [
  {
   "cell_type": "markdown",
   "metadata": {},
   "source": [
    "---\n",
    "layout: post\n",
    "title: Sample Jupyter Notebook\n",
    "description: Since my jupyter notebook files don't show that they are notebooks, here's a sample page of a code cell with also the running code!\n",
    "type: issues \n",
    "permalink: /samplenotebook/\n",
    "--- \n"
   ]
  },
  {
   "cell_type": "raw",
   "metadata": {
    "vscode": {
     "languageId": "raw"
    }
   },
   "source": [
    "<!DOCTYPE html>\n",
    "<html lang=\"en\">\n",
    "<head>\n",
    "    <meta charset=\"UTF-8\">\n",
    "    <meta name=\"viewport\" content=\"width=device-width, initial-scale=1.0\">\n",
    "    <title>Simple Bouncing Ball Animation</title>\n",
    "    <style>\n",
    "        body {\n",
    "            display: flex;\n",
    "            justify-content: center;\n",
    "            align-items: center;\n",
    "            height: 100vh;\n",
    "            margin: 0;\n",
    "            background-color: #f0f0f0;\n",
    "        }\n",
    "\n",
    "        .ball {\n",
    "            width: 50px;\n",
    "            height: 50px;\n",
    "            background-color: #3498db;\n",
    "            border-radius: 50%;\n",
    "            position: absolute;\n",
    "            bottom: 0;\n",
    "            animation: bounce 2s infinite ease-in-out;\n",
    "        }\n",
    "\n",
    "        @keyframes bounce {\n",
    "            0% {\n",
    "                transform: translateY(0);\n",
    "            }\n",
    "            50% {\n",
    "                transform: translateY(-300px);\n",
    "            }\n",
    "            100% {\n",
    "                transform: translateY(0);\n",
    "            }\n",
    "        }\n",
    "    </style>\n",
    "</head>\n",
    "<body>\n",
    "    <div class=\"ball\"></div>\n",
    "</body>\n",
    "</html>\n"
   ]
  },
  {
   "cell_type": "code",
   "execution_count": null,
   "metadata": {
    "vscode": {
     "languageId": "html"
    }
   },
   "outputs": [],
   "source": [
    "<!DOCTYPE html>\n",
    "<html lang=\"en\">\n",
    "<head>\n",
    "    <meta charset=\"UTF-8\">\n",
    "    <meta name=\"viewport\" content=\"width=device-width, initial-scale=1.0\">\n",
    "    <title>Simple Bouncing Ball Animation</title>\n",
    "    <style>\n",
    "        body {\n",
    "            display: flex;\n",
    "            justify-content: center;\n",
    "            align-items: center;\n",
    "            height: 100vh;\n",
    "            margin: 0;\n",
    "            background-color: #f0f0f0;\n",
    "        }\n",
    "\n",
    "        .ball {\n",
    "            width: 50px;\n",
    "            height: 50px;\n",
    "            background-color: #3498db;\n",
    "            border-radius: 50%;\n",
    "            position: absolute;\n",
    "            bottom: 0;\n",
    "            animation: bounce 2s infinite ease-in-out;\n",
    "        }\n",
    "\n",
    "        @keyframes bounce {\n",
    "            0% {\n",
    "                transform: translateY(0);\n",
    "            }\n",
    "            50% {\n",
    "                transform: translateY(-300px);\n",
    "            }\n",
    "            100% {\n",
    "                transform: translateY(0);\n",
    "            }\n",
    "        }\n",
    "    </style>\n",
    "</head>\n",
    "<body>\n",
    "    <div class=\"ball\"></div>\n",
    "</body>\n",
    "</html>\n"
   ]
  },
  {
   "cell_type": "markdown",
   "metadata": {},
   "source": [
    "<script src=\"https://utteranc.es/client.js\"\n",
    "        repo=\"abbymanalo/abby2025\"\n",
    "        issue-term=\"pathname\"\n",
    "        theme=\"github-light\"\n",
    "        crossorigin=\"anonymous\"\n",
    "        async>\n",
    "</script>"
   ]
  }
 ],
 "metadata": {
  "language_info": {
   "name": "python"
  }
 },
 "nbformat": 4,
 "nbformat_minor": 2
}
