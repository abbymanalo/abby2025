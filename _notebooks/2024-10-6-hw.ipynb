{
 "cells": [
  {
   "cell_type": "markdown",
   "metadata": {},
   "source": [
    "# 3.2 Homework "
   ]
  },
  {
   "cell_type": "code",
   "execution_count": null,
   "metadata": {
    "vscode": {
     "languageId": "javascript"
    }
   },
   "outputs": [],
   "source": [
    "let facts = true;\n",
    "console.log(\"Magic 8 Ball, do I get an A on this assignment\");\n",
    "console.log(\"[8] Magic 8 Ball is thinking ...\");\n",
    "console.log(\"[8] The ball has decided, that is \" + facts);\n",
    "\n",
    "/*\n",
    "Magic 8 Ball, do I get an A on this assignment \n",
    "[8] Magic 8 Ball is thinking ...\n",
    "[8] The ball has decided, that is true\n",
    "*/\n"
   ]
  },
  {
   "cell_type": "code",
   "execution_count": null,
   "metadata": {},
   "outputs": [],
   "source": [
    "facts = True\n",
    "print(\"Magic 8 Ball, do I get an A on this assignment\")\n",
    "print(\"[8] Magic 8 Ball is thinking ...\")\n",
    "print(\"[8] The ball has decided, that is \" + str(facts))\n",
    "\n",
    "'''\n",
    "Magic 8 Ball, do I get an A on this assignment\n",
    "[8] Magic 8 Ball is thinking ...\n",
    "[8] The ball has decided, that is True\n",
    "'''"
   ]
  },
  {
   "cell_type": "code",
   "execution_count": null,
   "metadata": {},
   "outputs": [],
   "source": [
    "\n",
    "import json \n",
    "\n",
    "# dict\n",
    "volkswagen_beetle = {\n",
    "    \"name\": \"2019 Volkswagen Beetle\",\n",
    "    \"performance\": {\n",
    "        \"engine\": \"Intercooled Turbo Regular Unleaded I-4\",\n",
    "        \"horsepower\": 170,\n",
    "    },\n",
    "    \"pricing\": {\n",
    "        \"original_price\": \"$29,995\",\n",
    "        \"rarity\": \"random car\"\n",
    "    }\n",
    "}\n",
    "\n",
    "90\n",
    "jsonstring = json.dumps(volkswagen_beetle) \n",
    "\n",
    "print(jsonstring)\n"
   ]
  },
  {
   "cell_type": "code",
   "execution_count": null,
   "metadata": {
    "vscode": {
     "languageId": "javascript"
    }
   },
   "outputs": [],
   "source": [
    "let facts = true;\n",
    "console.log(\"Magic 8 Ball, do I get an A on this assignment\");\n",
    "console.log(\"[8] Magic 8 Ball is thinking ...\");\n",
    "console.log(\"[8] The ball has decided, that is \" + facts);\n",
    "\n",
    "/*\n",
    "Magic 8 Ball, do I get an A on this assignment \n",
    "[8] Magic 8 Ball is thinking ...\n",
    "[8] The ball has decided, that is true\n",
    "*/\n"
   ]
  },
  {
   "cell_type": "code",
   "execution_count": null,
   "metadata": {
    "vscode": {
     "languageId": "javascript"
    }
   },
   "outputs": [],
   "source": [
    "\n",
    "const volkswagenBeetle = {\n",
    "    name: \"2019 Volkswagen Beetle\",\n",
    "    performance: {\n",
    "        engine: \"Intercooled Turbo Regular Unleaded I-4\",\n",
    "        horsepower: 170\n",
    "    },\n",
    "    pricing: {\n",
    "        original_price: \"$29,995\",\n",
    "        rarity: \"random car\"\n",
    "    }\n",
    "};\n",
    "\n",
    "const jsonString = JSON.stringify(volkswagenBeetle);\n",
    "\n",
    "console.log(jsonString);\n"
   ]
  },
  {
   "cell_type": "code",
   "execution_count": null,
   "metadata": {
    "vscode": {
     "languageId": "javascript"
    }
   },
   "outputs": [],
   "source": [
    "// Fetch the JSON data\n",
    "fetch('https://jsonplaceholder.typicode.com/todos/1')\n",
    "  .then(response => response.json())\n",
    "  .then(json => {\n",
    "    // Original JSON\n",
    "    console.log('Original JSON:', json);\n",
    "\n",
    "    // Modify the JSON data\n",
    "    json.title = \"Updated title\";          // String\n",
    "    json.userId = 99;                      // Number\n",
    "    json.completed = true;                 // Boolean\n",
    "    json.tags = [\"urgent\", \"homework\"];    // Array (adding new key 'tags')\n",
    "    json.details = {                       // Object (adding new key 'details')\n",
    "      description: \"hello\",\n",
    "    };\n",
    "\n",
    "    // Print the modified JSON\n",
    "    console.log('Modified JSON:', json);\n",
    "  });\n"
   ]
  },
  {
   "cell_type": "code",
   "execution_count": null,
   "metadata": {},
   "outputs": [],
   "source": [
    "import requests\n",
    "import json\n",
    "\n",
    "# Fetch the JSON data\n",
    "response = requests.get('https://jsonplaceholder.typicode.com/todos/1')\n",
    "json_data = response.json()\n",
    "\n",
    "# Original JSON\n",
    "print(\"Original JSON:\", json_data)\n",
    "\n",
    "# Modify the JSON data\n",
    "json_data['title'] = \"Updated title\"       # String\n",
    "json_data['userId'] = 99                   # Number\n",
    "json_data['completed'] = True              # Boolean\n",
    "json_data['tags'] = [\"urgent\", \"homework\"] # Array (adding new key 'tags')\n",
    "json_data['details'] = {                   # Object (adding new key 'details')\n",
    "    \"description\": \"hello\",\n",
    "}\n",
    "\n",
    "# Print the modified JSON\n",
    "print(\"Modified JSON:\", json.dumps(json_data, indent=4))\n"
   ]
  }
 ],
 "metadata": {
  "kernelspec": {
   "display_name": "Python 3",
   "language": "python",
   "name": "python3"
  },
  "language_info": {
   "codemirror_mode": {
    "name": "ipython",
    "version": 3
   },
   "file_extension": ".py",
   "mimetype": "text/x-python",
   "name": "python",
   "nbconvert_exporter": "python",
   "pygments_lexer": "ipython3",
   "version": "3.10.12"
  }
 },
 "nbformat": 4,
 "nbformat_minor": 2
}
