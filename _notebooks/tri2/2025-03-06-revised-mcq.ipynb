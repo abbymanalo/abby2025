{
 "cells": [
  {
   "cell_type": "markdown",
   "metadata": {},
   "source": [
    "---\n",
    "layout: post\n",
    "title: MCQ Blog\n",
    "description: Revised blog for MCQ, seperated from retrospective blog\n",
    "permalink: /mcq/ \n",
    "menu: nav/trimester2.html\n",
    "--- "
   ]
  },
  {
   "cell_type": "markdown",
   "metadata": {
    "vscode": {
     "languageId": "plaintext"
    }
   },
   "source": [
    "- MCQ Score\n",
    "- Weaknesses\n",
    "- Strengths "
   ]
  },
  {
   "cell_type": "markdown",
   "metadata": {},
   "source": [
    "# Score \n",
    "\n",
    "<img src=\"{{ site.baseurl }}/images/MCQ_tri2final.png\" alt=\"MCQ Results\" >\n",
    "\n",
    "I spent 2 hours and 15 minutes taking the MCQ. I took it in multiple sit down session. I think my times would be different if I did it in one sitting. "
   ]
  },
  {
   "cell_type": "markdown",
   "metadata": {},
   "source": [
    "<img src=\"{{ site.baseurl }}/images/topicscores.png\" alt=\"Topic Score\" >"
   ]
  },
  {
   "cell_type": "markdown",
   "metadata": {},
   "source": [
    "# Weaknesses \n",
    "- lack of vocabulary knowledge\n",
    "- guessing answers\n",
    "### Conceptual Weaknesses \n",
    "- 3.1: Variables and Assignments\n",
    "- 3.17: Algorithmic Efficiency\n",
    "- 3.5: Boolean Expressions\n",
    "- 3.15: Random Values\n",
    "- 4.2: Fault Tolerance\n",
    "\n",
    "# Strengths \n",
    "- applying outside logic to some questions\n",
    "### Conceptual Strengths \n",
    "- 2.1: Binary Numbers\n",
    "- 3.7: Nested Conditionals\n",
    "- 4.1: The Internet\n",
    "- 5.4: Crowdsourcing\n",
    "- 5.5: Legal and Ethical Concerns\n",
    "- 5.6: Safe Computing\n"
   ]
  },
  {
   "cell_type": "markdown",
   "metadata": {},
   "source": [
    "<script src=\"https://utteranc.es/client.js\"\n",
    "        repo=\"abbymanalo/abby2025\"\n",
    "        issue-term=\"pathname\"\n",
    "        theme=\"github-light\"\n",
    "        crossorigin=\"anonymous\"\n",
    "        async>\n",
    "</script>"
   ]
  }
 ],
 "metadata": {
  "language_info": {
   "name": "python"
  }
 },
 "nbformat": 4,
 "nbformat_minor": 2
}
