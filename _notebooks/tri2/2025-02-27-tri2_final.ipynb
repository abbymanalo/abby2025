{
 "cells": [
  {
   "cell_type": "code",
   "execution_count": null,
   "metadata": {
    "vscode": {
     "languageId": "plaintext"
    }
   },
   "outputs": [],
   "source": [
    "---\n",
    "layout: post\n",
    "title: Trimester 2 Retrospective - Final\n",
    "description: Inidivudal reflection on work throughout Tri 2\n",
    "permalink: /trimester2_retrospective/ \n",
    "menu: nav/trimester2.html\n",
    "--- "
   ]
  },
  {
   "cell_type": "markdown",
   "metadata": {},
   "source": [
    "# Brief Overview for the following blog:\n",
    "1. DOCSE 5 Things\n",
    "2. Full Stack- Project Frostbyte Demo\n",
    "3. Project Feature Writeup\n",
    "4. AP Classroom MCQ\n",
    "5. Night at the Museum \n",
    "6. What's Next?\n",
    "7. Self Grade"
   ]
  },
  {
   "cell_type": "markdown",
   "metadata": {},
   "source": [
    "# DOCSE 5 Things\n"
   ]
  },
  {
   "cell_type": "markdown",
   "metadata": {},
   "source": [
    "1. Camping Posts Feature\n",
    "2. Deplyment Role: Frontend Documenter [(frontend issue here)](https://github.com/blackstar3092/frostbyte_frontend/issues/38)\n",
    "3. Pruning unnecessary features, typos, etc on page\n",
    "4. Planning issues for N@TM ([standup meeting detailed notes/summary](https://github.com/blackstar3092/frostbyte_frontend/issues/40), [UI order](https://github.com/blackstar3092/frostbyte_frontend/issues/39), [Quick fixes before N@TM](https://github.com/blackstar3092/frostbyte_frontend/issues/42))\n",
    "5. Notetaking during tech talks for team "
   ]
  },
  {
   "cell_type": "markdown",
   "metadata": {},
   "source": [
    "# Full Stack - Project Frostbyte Demo"
   ]
  },
  {
   "cell_type": "markdown",
   "metadata": {},
   "source": [
    "<iframe src=\"https://drive.google.com/file/d/1nI8YACmbBqB9g3nfq7EGsvJ1lYipT6Q5/preview\" \n",
    "        width=\"400\" height=\"300\" allow=\"autoplay\">\n",
    "</iframe>\n",
    "(0:40 when Camping Post demo starts)\n",
    "\n",
    "| CPT Requirements                                                                                                          |\n",
    "|-------------------------------------------------------------------------------------------------------------------------------|\n",
    "| Use of at least one list (or other collection type) to represent a collection of data that is stored and used to manage program complexity and help fulfill the program’s purpose. |\n",
    "| At least one procedure that contributes to the program’s intended purpose, where you have defined: the procedure’s name, the return type, one or more parameters. |\n",
    "| Algorithm that includes sequencing, selection, and iteration that is in the body of the selected procedure.                     |\n",
    "| Calls to your student-developed procedure.                                                                                      |\n",
    "| Instructions for output.                                                                                                       |\n",
    "\n",
    "\n",
    "**Click [here](https://blackstar3092.github.io/frostbyte_frontend/) to visit our deployed site!**\n"
   ]
  },
  {
   "cell_type": "markdown",
   "metadata": {},
   "source": [
    "## Feedback on Full Project - Night at the Museum \n",
    "<iframe src=\"https://docs.google.com/spreadsheets/d/e/2PACX-1vRy5R_AAmpUvXH3Y8R-tsc1EK461AHToffOjFmSCYPLoNKOTxlikkZIzhnDfSaXPxudD-JBhbOuxgZI/pubhtml?widget=true&amp;headers=false\"\n",
    "    width=\"100%\" \n",
    "    height=\"400\"\n",
    "    style=\"border: 1px solid #ccc; border-radius: 8px;\">\n",
    "</iframe>\n",
    "\n",
    "\n",
    "## Key Takeaways\n",
    "- more styling: make it seem less like template project and more like a seperate page with its own style based on theme (camping/national parks) -- customize page for Frostbyte\n",
    "- make main page less cluttered: too much words, not ideal for a social media page\n",
    "\n",
    "Overall, we recieved an average rating of 4.2/5 stars on our project at N@TM. For parents or in general anyone outside of the CSP course, they were pretty impressed and satisfied with our project. For CSP/CSA students, many of them noted that we should have a customized page theme as our current theme mainly follows the nighthawk coders layout. \n",
    "\n",
    "\n",
    "### Personal Ideas for improvement of site\n",
    "\n",
    "- change layout of overall site, making it easy for user to navigate to the many subpages \n",
    "- combine all homepages into one (landing page, camping page, national parks page)\n",
    "- inspiration: Instagram layout "
   ]
  },
  {
   "cell_type": "markdown",
   "metadata": {},
   "source": [
    "<img src=\"{{ site.baseurl }}/images/instagram.png\" alt=\"IG Layout\" width=\"300\">"
   ]
  },
  {
   "cell_type": "markdown",
   "metadata": {},
   "source": [
    "# Project Feature Writeup\n",
    "\n"
   ]
  },
  {
   "cell_type": "markdown",
   "metadata": {},
   "source": [
    "## Camping Posts\n",
    "<img src=\"{{ site.baseurl }}/images/campingPosts_drawio.png\" alt=\"Camping Post\" width=\"300\">\n",
    "<img src=\"{{ site.baseurl }}/images/campingpostfeed.png\" alt=\"Post Feed\" width=\"300\">\n",
    "- Camping posts: select a channel (different biomes), view and post under that channel\n",
    "- Encourages user interaction and connecting under camping\n",
    "- Future improvements: change layout of post box and feed, change buttons from black to a different color\n",
    "\n",
    "<img src=\"{{ site.baseurl }}/images/newpost.png\" alt=\"Post Improvement\" width=\"300\">\n",
    "\n",
    "| CPT Requirements                                                                                                           |\n",
    "|-------------------------------------------------------------------------------------------------------------------------------|\n",
    "| Use of at least one list (or other collection type) to represent a collection of data that is stored and used to manage program complexity and help fulfill the program’s purpose. |\n",
    "| At least one procedure that contributes to the program’s intended purpose, where you have defined: the procedure’s name, the return type, one or more parameters. |\n",
    "| Algorithm that includes sequencing, selection, and iteration that is in the body of the selected procedure.                     |\n",
    "| Calls to your student-developed procedure.                                                                                      |\n",
    "| Instructions for output.                                                                                                       |\n",
    "\n",
    "For a more detailed blog on the workings of camping posts, visit my indiviudal full stack blog [here]({{site.baseurl}}/project_frostbyte/)"
   ]
  },
  {
   "cell_type": "code",
   "execution_count": null,
   "metadata": {
    "vscode": {
     "languageId": "typescript"
    }
   },
   "outputs": [],
   "source": [
    "<script type=\"module\">\n",
    "  // delete function in its own script tag to put it in a global scope/independent \n",
    "  import { pythonURI, fetchOptions } from '{{ site.baseurl }}/assets/js/api/config.js';\n",
    "\n",
    "    console.log('deletePost function is defined:', typeof deletePost === 'function');\n",
    "    \n",
    "    //attatch deletePost defintion to global window so that deletePost can still globally be defined under a script module \n",
    "    window.deletePost = async function deletePost(postId) {\n",
    "      \n",
    "      const token = localStorage.getItem('token'); \n",
    "        try {\n",
    "          \n",
    "            const response = await fetch(`${pythonURI}/api/campingPost`, {\n",
    "              ...fetchOptions,\n",
    "                method: 'DELETE',\n",
    "                headers: {\n",
    "                    'Content-Type': 'application/json',\n",
    "                    'Authorization': `Bearer ${token}`\n",
    "                },\n",
    "                body: JSON.stringify({ id: postId })\n",
    "            });\n",
    "\n",
    "            if (!response.ok) {\n",
    "                throw new Error('Failed to delete post: ' + response.statusText);\n",
    "            }\n",
    "\n",
    "            const data = await response.json();\n",
    "            console.log('Post deleted successfully:', data.message);\n",
    "\n",
    "            // Remove the deleted post from the UI\n",
    "            document.querySelector(`#post-${postId}`).remove();\n",
    "\n",
    "            // Update post count\n",
    "            document.getElementById('count').innerHTML = `<h4>Total Posts: ${posts.length || 0}</h4>`;\n",
    "\n",
    "        } catch (error) {\n",
    "            console.error('Error deleting post:', error);\n",
    "        }\n",
    "    }\n",
    "</script>\n"
   ]
  },
  {
   "cell_type": "code",
   "execution_count": null,
   "metadata": {
    "vscode": {
     "languageId": "typescript"
    }
   },
   "outputs": [],
   "source": [
    "class _FILTER(Resource):\n",
    "@token_required()\n",
    "def post(self):\n",
    "    # getting posts with channel and user id\n",
    "    data = request.get_json()\n",
    "    if data is None:\n",
    "        return {'message': 'Channel and User data not found'}, 400\n",
    "    if 'channel_id' not in data:\n",
    "        return {'message': 'Channel ID not found'}, 400\n",
    "    \n",
    "    camping_posts = camping.query.filter_by(_channel_id=data['channel_id']).all()\n",
    "    json_ready = [campingPost.read() for campingPost in camping_posts]\n",
    "    return jsonify(json_ready)\n"
   ]
  },
  {
   "cell_type": "markdown",
   "metadata": {},
   "source": [
    "# AP Classroom MCQ"
   ]
  },
  {
   "cell_type": "markdown",
   "metadata": {},
   "source": [
    "<img src=\"{{ site.baseurl }}/images/MCQ_tri2final.png\" alt=\"MCQ Results\" >\n",
    "Steps to improvement:\n",
    "- AP Classroom CB videos on big ideas\n",
    "- studying binary\n",
    "\n",
    "Units/Big Ideas to study:\n",
    "- 3.1: Variables and Assignments\n",
    "- 3.17: Algorithmic Efficiency\n",
    "- 3.5: Boolean Expressions\n",
    "- 3.15: Random Values\n",
    "- 4.2: Fault Tolerance\n",
    "\n",
    "\n"
   ]
  },
  {
   "cell_type": "markdown",
   "metadata": {},
   "source": [
    "# Night at the Museum \n",
    "\n",
    "<style>\n",
    "    .image-scroller {\n",
    "        width: 100%;\n",
    "        overflow-x: scroll;\n",
    "        overflow-y: hidden;\n",
    "        white-space: nowrap;\n",
    "        background-color:rgb(255, 255, 255);\n",
    "        border: 1px rgb(255, 255, 255);\n",
    "        border-radius: 10px;\n",
    "        box-shadow: 0 4px 8px 0 #f0f6f6, 0 6px 20px 0 #f0f6f6;\n",
    "        margin: 20px auto;\n",
    "        padding: 10px 0;\n",
    "    }\n",
    "\n",
    "    .image-scroller img {\n",
    "        display: inline-block;\n",
    "        width: 400px;\n",
    "        height: 300px;\n",
    "        margin-right: 10px;\n",
    "        border-radius: 5px;\n",
    "        object-fit: cover;\n",
    "    }\n",
    "</style>\n",
    "<div class=\"image-scroller\">\n",
    "    <img src=\"{{ site.baseurl }}/images/group_photoNATM.jpeg\" alt=\"Team Photo\">\n",
    "     <img src=\"{{ site.baseurl }}/images/cspotherNATM.jpeg\" alt=\"Other CSP\" style=\"margin-left: 10px;\">\n",
    "    <img src=\"{{ site.baseurl }}/images/csse1demoNATM.jpeg\" alt=\"CSSE 1 Demo\">\n",
    "    <img src=\"{{ site.baseurl }}/images/csse2demoNATM.jpeg\" alt=\"CSSE 2 Demo\">\n",
    "</div>\n"
   ]
  },
  {
   "cell_type": "markdown",
   "metadata": {},
   "source": [
    "# What's Next? - CompSci after CSP\n",
    "- summer course in Java (in preperation for CSA)\n",
    "- APCSA class in the 2025-2026 school year\n"
   ]
  },
  {
   "cell_type": "markdown",
   "metadata": {},
   "source": [
    "# Self Grade \n",
    "\n",
    "| Requirements                     | Grade    | Reasoning                       |\n",
    "|----------------------------------|----------|---------------------------------|\n",
    "| 5 Things (5)                     |  5    | I acomplished and learned a lot of things this trimester and I believe that I put a lot of effort into my work, even though at times it wasn't very good.                             |\n",
    "| Full Stack Project Demo (2)      | 2    | My team and I have worked for a while to get our project ready and following the CPT requirements. After revieiwng the feedback we got from N@TM, I have a clear idea of how our site could be improved in the future, overall our strengths and weakness on Frostbyte                            |\n",
    "| Project Feature blog write up (1)| .5     | I do have a feature that works and follows CPT requirements, but I'm still working on being able to comfortably and smoothly talk about my code.                             |\n",
    "| MCQ (1)                          | 1        | I completed it and improved from my last score, though it isn't an amazing grade I now know what topics to study harder in.                           |\n",
    "| Ability to Impress (1)           |  .6      | I feel that I've tried to present how I have been striving to improve throughout the trimester and with these developed skills I've accumulated, I'm hoping to continue in learning cs.                              |\n",
    "\n",
    "### **Total: 9.1/10**\n",
    "\n",
    "**Strengths**: \n",
    "- blogging \n",
    "- collaboration (improved over the trimester)\n",
    "- creating diagrams and visuals \n",
    "- recieving feedback\n",
    "\n",
    "\n",
    "**Weaknesses**:\n",
    "- staying in my comfort zone: in the future, push to do more diffcult tasks that require even more learning \n",
    "- knowledge of CB material\n"
   ]
  }
 ],
 "metadata": {
  "language_info": {
   "name": "python"
  }
 },
 "nbformat": 4,
 "nbformat_minor": 2
}
