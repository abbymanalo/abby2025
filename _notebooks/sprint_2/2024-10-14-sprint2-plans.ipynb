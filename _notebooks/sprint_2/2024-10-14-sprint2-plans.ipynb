{
 "cells": [
  {
   "cell_type": "raw",
   "metadata": {
    "vscode": {
     "languageId": "raw"
    }
   },
   "source": [
    "---\n",
    "layout: post\n",
    "title: Sprint 2\n",
    "description: Plans v. Acomplished for Sprint 2\n",
    "type: issues \n",
    "permalink: /sprint2plans/\n",
    "--- "
   ]
  },
  {
   "cell_type": "markdown",
   "metadata": {},
   "source": [
    "# Plans for Sprint 2"
   ]
  },
  {
   "cell_type": "markdown",
   "metadata": {},
   "source": [
    "- create and complete issue for lesson plan\n",
    "- create 3.7 lesson\n",
    "- create individual team style for lesson\n",
    "- push out homework for the rest of the class\n",
    "- grade homework submitted "
   ]
  },
  {
   "cell_type": "markdown",
   "metadata": {},
   "source": [
    "# Acomplishments "
   ]
  },
  {
   "cell_type": "markdown",
   "metadata": {},
   "source": [
    "- planned, created, taught, and graded lesson\n",
    "- organized agenda for period 5 as super scrum \n",
    "- create blogs: personal sprint 2 blog, team sprint blog, class sprint blog"
   ]
  },
  {
   "cell_type": "markdown",
   "metadata": {},
   "source": [
    "# Tangibles of Work Completed "
   ]
  },
  {
   "cell_type": "markdown",
   "metadata": {},
   "source": [
    "### Homework Blogs:\n",
    "\n",
    "[3.1]()\n",
    "\n",
    "[3.2]({{site.baseurl}}/3-2-homework/)\n",
    "\n",
    "[3.3]()\n",
    "\n",
    "[3.4]({{site.baseurl}}/3-4-homework/)\n",
    "\n",
    "[3.5]({{site.baseurl}}/3-5-homework/)\n",
    "\n",
    "[3.6-3.7]({{site.baseurl}}/homework/)\n",
    "\n",
    "[3.8]()\n",
    "\n",
    "[3.9]()\n",
    "\n",
    "[3.10]()"
   ]
  },
  {
   "cell_type": "markdown",
   "metadata": {},
   "source": []
  }
 ],
 "metadata": {
  "language_info": {
   "name": "python"
  }
 },
 "nbformat": 4,
 "nbformat_minor": 2
}
