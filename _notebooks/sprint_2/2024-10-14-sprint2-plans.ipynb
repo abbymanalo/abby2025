{
 "cells": [
  {
   "cell_type": "raw",
   "metadata": {
    "vscode": {
     "languageId": "raw"
    }
   },
   "source": [
    "---\n",
    "layout: post\n",
    "title: Sprint 2\n",
    "description: Plans v. Acomplished for Sprint 2\n",
    "type: issues \n",
    "permalink: /sprint2plans/\n",
    "--- "
   ]
  },
  {
   "cell_type": "markdown",
   "metadata": {},
   "source": [
    "# Plans for Sprint 2"
   ]
  },
  {
   "cell_type": "markdown",
   "metadata": {},
   "source": [
    "- create and complete issue for lesson plan\n",
    "- create 3.7 lesson\n",
    "- create individual team style for lesson\n",
    "- push out homework for the rest of the class\n",
    "- grade homework submitted "
   ]
  },
  {
   "cell_type": "markdown",
   "metadata": {},
   "source": [
    "# Acomplishments "
   ]
  },
  {
   "cell_type": "markdown",
   "metadata": {},
   "source": [
    "- planned, created, taught, and graded lesson\n",
    "- organized agenda for period 5 as super scrum \n",
    "- create blogs: personal sprint 2 blog, team sprint blog, class sprint blog"
   ]
  },
  {
   "cell_type": "markdown",
   "metadata": {},
   "source": [
    "# Sprint 2 Focus Guidelines \n",
    "1. Blog - in association with Big Ideas and Teaching, something that shows how you will be prepared for CB and PBL (ie organized accomplishments)\n",
    "2. Memory - something that will helps Teacher or others recall your individual presentation and contribution (ie a highlight)\n",
    "3. Relevancy - something impactful you learned from another lesson, note source, and try to use relevancy checklist in language (ie a learning)\n",
    "4. Beyond Perfunctory - something that shows me that this Sprint on Big Ideas is distinctly yours (ie personal growth or accomplishment)"
   ]
  },
  {
   "cell_type": "markdown",
   "metadata": {},
   "source": [
    "### Organized Acomplishments\n",
    "- I am becoming well prepared for the College Board (AP) Exam and Project Based Learning now that I have learned or reviewed the fundamentals. Listening through lessons, participating in the popcorn hacks, completing the homework, creating a lesson, and grading homework were all ways that exposed me to the Big Ideas multiple times. I think I gained a good understanding of Big Idea 3 since I had to look back at each lesson multiple times, which refreshed and strengthened my memory everytime I had to look back at it. \n",
    "\n",
    "### Highlight of Lesson\n",
    "- I think a highlight of my presentation/contribution to my team was the use of flowcharts in the lesson. I created the flowcharts for all the lessons under my team. Using flowcharts to teach conditions was helpful because it showed how each line related to each other. I noticed that my peers remembered our lesson from the flowcharts since it was unique and it was also one of the first standout things seen as it was at the top of each 3.6 and 3.7 lesson.\n",
    "\n",
    "### My Learning\n",
    "- Something impactful I learned from another lesson were the different naming conventions that I now can identify and choose to use in my own code. In that same lesson (3.1), learned about dictionaries, which I was familiar with but didn't know the name of it. Now I can put a name to the code. I also learned a lot in 3.4, where I learned many ways to manipulate strings. \n",
    "\n",
    "### Personal Growth/Acomplishment\n",
    "- For my own personal growth, I think that I improved in my understanding of code overall. I was familiar with Mort's style of class/coding since I did take CSSE last year. Last year, we worked on creating games with the exact ideas within Big Idea 3. The knowledge I lacked last year was the actual meaning and use of those ideas. Before I was able to create code based off of example code given, but now I can say that I am more confident in attempting to write my own original code. "
   ]
  },
  {
   "cell_type": "markdown",
   "metadata": {},
   "source": [
    "# Tangibles of Work Completed "
   ]
  },
  {
   "cell_type": "markdown",
   "metadata": {},
   "source": [
    "### Homework Blogs:\n",
    "\n",
    "[3.1]()\n",
    "\n",
    "[3.2]({{site.baseurl}}/3-2-homework/)\n",
    "\n",
    "[3.3]()\n",
    "\n",
    "[3.4]({{site.baseurl}}/3-4-homework/)\n",
    "\n",
    "[3.5]({{site.baseurl}}/3-5-homework/)\n",
    "\n",
    "[3.6-3.7]({{site.baseurl}}/homework/)\n",
    "\n",
    "[3.8]()\n",
    "\n",
    "[3.9]()\n",
    "\n",
    "[3.10]()"
   ]
  },
  {
   "cell_type": "markdown",
   "metadata": {},
   "source": [
    "### Superscrum Work:"
   ]
  },
  {
   "cell_type": "markdown",
   "metadata": {},
   "source": [
    "As the Scrum Master of Scrum Masters, a big responsibility I have is to keep the class on track and be completing the work that Mr Mort wants to be pushed out. Here is some examples of announcements I've made to our period's slack channel that exemplify how I worked to keep our class in track. "
   ]
  },
  {
   "cell_type": "markdown",
   "metadata": {},
   "source": [
    "![announcements]({{site.baseurl}}/images/slackannouncements.png)"
   ]
  },
  {
   "cell_type": "markdown",
   "metadata": {},
   "source": [
    "I also created documents for the class to use as per Mr Mort and Mr Brown's requests. Click the following links to view. \n",
    "\n",
    "[Lesson Plan Spreadsheet](https://docs.google.com/spreadsheets/d/1fm0w0WORL_Tn1qjSbu_s3DJPYZgLyQXJd9qMxw2uMA4/edit?usp=sharing)\n",
    "\n",
    "[Grading Sheet Template](https://docs.google.com/spreadsheets/d/1-ef8UqPNj8zJirsL70fRHeZRv8s9_92NWb8nYJ8ERSM/edit?usp=sharing)"
   ]
  }
 ],
 "metadata": {
  "language_info": {
   "name": "python"
  }
 },
 "nbformat": 4,
 "nbformat_minor": 2
}
