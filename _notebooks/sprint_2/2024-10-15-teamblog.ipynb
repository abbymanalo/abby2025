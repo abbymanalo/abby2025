{
 "cells": [
  {
   "cell_type": "raw",
   "metadata": {
    "vscode": {
     "languageId": "raw"
    }
   },
   "source": [
    "---\n",
    "layout: post\n",
    "title: 3.6 - 3.7 Team Blog \n",
    "description: Our team's reflection over sprint 2 \n",
    "type: issues \n",
    "permalink: /teamblog/\n",
    "--- "
   ]
  },
  {
   "cell_type": "markdown",
   "metadata": {},
   "source": [
    "# 3.6 - 3.7: Conditionals and Nested Conditionals \n",
    "Team members: Abby M, Justin Q, Shriya S, Nathan T"
   ]
  },
  {
   "cell_type": "markdown",
   "metadata": {},
   "source": [
    "# Divison of Work\n",
    "We had Nathan and Shriya divide 3.6 into two parts: if statements and if else statements. I (Abby) worked on 3.7. Justin did work in refining our lessons, creating our submenu, providng psuedocode examples for each lesson, and working on the team lesson menu. "
   ]
  }
 ],
 "metadata": {
  "language_info": {
   "name": "python"
  }
 },
 "nbformat": 4,
 "nbformat_minor": 2
}
