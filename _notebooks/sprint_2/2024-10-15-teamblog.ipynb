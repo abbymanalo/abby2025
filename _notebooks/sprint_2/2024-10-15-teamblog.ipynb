{
 "cells": [
  {
   "cell_type": "raw",
   "metadata": {
    "vscode": {
     "languageId": "raw"
    }
   },
   "source": [
    "---\n",
    "layout: post\n",
    "title: 3.6 - 3.7 Team Blog \n",
    "description: Our team's reflection over sprint 2 \n",
    "type: issues \n",
    "permalink: /teamblog/\n",
    "--- "
   ]
  },
  {
   "cell_type": "markdown",
   "metadata": {},
   "source": [
    "# 3.6 - 3.7: Conditionals and Nested Conditionals \n",
    "Team members: Abby M, Justin Q, Shriya S, Nathan T"
   ]
  },
  {
   "cell_type": "markdown",
   "metadata": {},
   "source": [
    "# Divison of Work\n",
    "We had Nathan and Shriya divide 3.6 into two parts: if statements and if else statements. I (Abby) worked on 3.7. Justin did work in refining our lessons, creating our submenu, providng psuedocode examples for each lesson, and working on the team lesson menu. "
   ]
  },
  {
   "cell_type": "markdown",
   "metadata": {},
   "source": [
    "# Individual Issues "
   ]
  },
  {
   "cell_type": "markdown",
   "metadata": {},
   "source": [
    "| Student    | Issue             |\n",
    "|------------|-------------------|\n",
    "| Abby   | [Issue](https://github.com/abbymanalo/abby2025/issues/8)         |\n",
    "| Shriya   | [Issue](https://github.com/shriyasshah/shriya2025/issues/4#issue-2582276904)         |\n",
    "| Nathan   | [Issue](https://github.com/NathanTejidor/NathanT_2025/issues/5#issue-2582277021)         |\n",
    "| Justin  | [Issue](https://github.com/JustinQ-DNHS/justin_2025/issues/5)         |\n"
   ]
  },
  {
   "cell_type": "markdown",
   "metadata": {},
   "source": [
    "# Tangibles "
   ]
  },
  {
   "cell_type": "markdown",
   "metadata": {},
   "source": [
    "### [3.6 Conditionals](https://nighthawkcoders.github.io/portfolio_2025/csp/big-idea/p5/3-6)\n",
    "This is the first part of the lesson we taught.\n",
    "### [3.7 Nested Conditionals](https://nighthawkcoders.github.io/portfolio_2025/csp/big-idea/p5/3-7)\n",
    "This is the second part of the lesson we taught.\n",
    "### [Lesson Plan](https://github.com/abbymanalo/portfolio_2025/issues/1)\n",
    "At the start of the sprint, we were required to have an issue detailing our plan for teaching. This is the link to that issue.\n",
    "### [Homework Issue](https://github.com/abbymanalo/portfolio_2025/issues/2)\n",
    "This is the issue that explains the homework and submission. Homework submissions were also submitted to the same issue as a comment. \n",
    "### [Gradesheet](https://docs.google.com/spreadsheets/d/1DiEk099ZFRcAChqKIi8a8FdxZ8NHlkClxti2WZu3cMA/edit?usp=sharing)\n",
    "These are the grades we gave to each of our peers upon their submission of the homework we assigned.  "
   ]
  }
 ],
 "metadata": {
  "language_info": {
   "name": "python"
  }
 },
 "nbformat": 4,
 "nbformat_minor": 2
}
