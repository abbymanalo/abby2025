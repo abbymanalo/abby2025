{
 "cells": [
  {
   "cell_type": "code",
   "execution_count": null,
   "metadata": {
    "vscode": {
     "languageId": "plaintext"
    }
   },
   "outputs": [],
   "source": [
    "---\n",
    "layout: post\n",
    "title: Period 5 Class Blog\n",
    "description: Work over Sprint 2 Period 5 Class \n",
    "type: issues \n",
    "permalink: /period5/\n",
    "--- "
   ]
  },
  {
   "cell_type": "markdown",
   "metadata": {},
   "source": [
    "# Period 5 Blog of Blogs, Sprint 2: Big Idea 3 Team Lessons"
   ]
  },
  {
   "cell_type": "markdown",
   "metadata": {},
   "source": [
    "## Period 5 Timeline "
   ]
  },
  {
   "cell_type": "markdown",
   "metadata": {},
   "source": [
    "![timeline]({{site.baseurl}}/images/sprint2timeline.png)"
   ]
  },
  {
   "cell_type": "markdown",
   "metadata": {},
   "source": [
    "## Important Skills Learned Over the Sprint "
   ]
  },
  {
   "cell_type": "markdown",
   "metadata": {},
   "source": [
    "Outside of learning the concepts of College Board's Big Idea #3, we also learned many skills important in a working enviornment. As a class, we practiced good communication skills within each other to push out certain lesson announcments, get clarifications, and assign or submit homework. Within the teams, we had to make sure work was divided and that we were hitting our own team's deadlines and goals throughout the timeline of our sprint. "
   ]
  },
  {
   "cell_type": "markdown",
   "metadata": {},
   "source": [
    "## Link to the teams' review blog "
   ]
  },
  {
   "cell_type": "markdown",
   "metadata": {},
   "source": [
    "| Scrum | Big Idea(s) |\n",
    "|----------|----------|\n",
    "|   Abby  |   [3.6, 3.7](https://abbymanalo.github.io/abby2025/teamblog/)  |\n",
    "|   Soumini  |   [3.3, 3.5](https://soumini97.github.io/soumini_2025/sprint-2-team-blog/)  |\n",
    "|   Kanhay  |   [3.1, 3.4](https://canadianpotatoe.github.io/Kanhay_2025/posts/BLOGTEAM)  |\n",
    "|   Nolan  |   [3.2](https://nulxn.github.io/nolan_2025/posts/what)  |\n"
   ]
  },
  {
   "cell_type": "markdown",
   "metadata": {},
   "source": [
    "## Tangibles "
   ]
  },
  {
   "cell_type": "markdown",
   "metadata": {},
   "source": [
    "### [Lesson Schedule](https://docs.google.com/spreadsheets/d/1fm0w0WORL_Tn1qjSbu_s3DJPYZgLyQXJd9qMxw2uMA4/edit?gid=0#gid=0)\n",
    "This is essentially a masterdoc of the work from each team. We have the schedule in which we followed to present lessons, the issues created that assigned and provided homework submissions, and the gradesheets for the homework done for each lesson. \n",
    "\n",
    "### [Signup Sheet](https://docs.google.com/spreadsheets/d/1Li3Z23pnkxGjKXuU3TvZRDG6AcrsC-2smJZTuLOtsq4/edit?gid=58654640#gid=58654640)\n",
    "This was the doc given to us by Mr Mort where we signed up for our lessons. Scrums have updated the lesson status for the respective lessons and included the link to their lesson plan issue. \n",
    "\n",
    "### [Fundamentals Page](https://nighthawkcoders.github.io/portfolio_2025/csp/big-idea/p5/fundamentals)\n",
    "This is the page that contains all the sublessons for Big Idea #3. "
   ]
  },
  {
   "cell_type": "markdown",
   "metadata": {},
   "source": [
    "## Individual's Issue Links "
   ]
  },
  {
   "cell_type": "markdown",
   "metadata": {},
   "source": [
    "| Student    | Issue             |\n",
    "|------------|-------------------|\n",
    "| Abby   | [Issue](https://github.com/abbymanalo/abby2025/issues/8)         |\n",
    "| Shriya   | [Issue](https://github.com/shriyasshah/shriya2025/issues/4#issue-2582276904)         |\n",
    "| Nathan   | [Issue](https://github.com/NathanTejidor/NathanT_2025/issues/5#issue-2582277021)         |\n",
    "| Justin  | [Issue](https://github.com/JustinQ-DNHS/justin_2025/issues/5)         |\n",
    "| Nolan   | [Issue](https://github.com/nulxn/portfolio_2025/issues/7)         |\n",
    "| Jacob  | [Issue](https://github.com/jacobcancode/jacob_2025/issues/6)         |\n",
    "| Claire  | [Issue](#)         |\n",
    "| Soumini  | [Issue](https://soumini97.github.io/soumini_2025/sprint-2-team-blog/Soumini97/soumini_2025#5)         |\n",
    "| Kush  | [Issue](https://soumini97.github.io/soumini_2025/sprint-2-team-blog/ThePencilSharpener/kush2024#4)         |\n",
    "| Ahmad | [Issue](https://soumini97.github.io/soumini_2025/sprint-2-team-blog/Ahmadimran2009/Ahmad_2026#3%20(comment))         |\n",
    "| Nikith | [Issue](https://soumini97.github.io/soumini_2025/sprint-2-team-blog/1922143/Nikith_student_2025#4)         |\n",
    "| Kanhay | [Issue](https://github.com/CanadianPotatoe/Kanhay_2025/issues/4)         |\n",
    "| Aadi B. | [Issue](https://github.com/aadibhat09/aadi_2025/issues/7)         |\n",
    "| Aditya K. | [Issue](https://github.com/adik1025/adi_student/issues/4)         |\n",
    "| Aaditya T. | [Issue](https://github.com/aadityataleppady/aaditya_2025/issues/4)         |\n",
    "\n"
   ]
  }
 ],
 "metadata": {
  "language_info": {
   "name": "python"
  }
 },
 "nbformat": 4,
 "nbformat_minor": 2
}
