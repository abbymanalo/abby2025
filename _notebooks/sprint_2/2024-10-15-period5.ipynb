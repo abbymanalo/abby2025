{
 "cells": [
  {
   "cell_type": "code",
   "execution_count": null,
   "metadata": {
    "vscode": {
     "languageId": "plaintext"
    }
   },
   "outputs": [],
   "source": [
    "---\n",
    "layout: post\n",
    "title: Period 5 Class Blog\n",
    "description: Work over Sprint 2 Period 5 Class \n",
    "type: issues \n",
    "permalink: /period5/\n",
    "--- "
   ]
  },
  {
   "cell_type": "markdown",
   "metadata": {},
   "source": [
    "# Period 5 Blog of Blogs, Sprint 2: Big Idea 3 Team Lessons"
   ]
  },
  {
   "cell_type": "markdown",
   "metadata": {},
   "source": [
    "## Period 5 Timeline "
   ]
  },
  {
   "cell_type": "markdown",
   "metadata": {},
   "source": [
    "## Important Skills Learned Over the Sprint "
   ]
  },
  {
   "cell_type": "markdown",
   "metadata": {},
   "source": [
    "Outside of learning the concepts of College Board's Big Idea #3, we also learned many skills important in a working enviornment. As a class, we practiced good communication skills within each other to push out certain lesson announcments, get clarifications, and assign or submit homework. Within the teams, we had to make sure work was divided and that we were hitting our own team's deadlines and goals throughout the timeline of our sprint. "
   ]
  },
  {
   "cell_type": "markdown",
   "metadata": {},
   "source": [
    "## Link to the teams' review blog "
   ]
  },
  {
   "cell_type": "markdown",
   "metadata": {},
   "source": [
    "| Scrum | Big Idea(s) |\n",
    "|----------|----------|\n",
    "|   Abby  |   [blog](https://abbymanalo.github.io/abby2025/teamblog/)  |\n",
    "|   Soumini  |   [blog](https://soumini97.github.io/soumini_2025/sprint-2-team-blog/)  |\n",
    "|   Kanhay  |   [blog]()  |\n",
    "|   Nolan  |   [blog](https://nulxn.github.io/nolan_2025/posts/what)  |\n"
   ]
  }
 ],
 "metadata": {
  "language_info": {
   "name": "python"
  }
 },
 "nbformat": 4,
 "nbformat_minor": 2
}
