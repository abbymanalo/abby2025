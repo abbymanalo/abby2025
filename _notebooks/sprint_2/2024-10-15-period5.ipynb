{
 "cells": [
  {
   "cell_type": "code",
   "execution_count": null,
   "metadata": {
    "vscode": {
     "languageId": "plaintext"
    }
   },
   "outputs": [],
   "source": [
    "---\n",
    "layout: post\n",
    "title: Period 5 Class Blog\n",
    "description: Work over Sprint 2 Period 5 Class \n",
    "type: issues \n",
    "permalink: /period5/\n",
    "--- "
   ]
  }
 ],
 "metadata": {
  "language_info": {
   "name": "python"
  }
 },
 "nbformat": 4,
 "nbformat_minor": 2
}
